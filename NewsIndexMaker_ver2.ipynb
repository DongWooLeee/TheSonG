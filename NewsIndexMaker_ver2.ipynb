{
  "nbformat": 4,
  "nbformat_minor": 0,
  "metadata": {
    "colab": {
      "provenance": [],
      "collapsed_sections": [
        "J5QAw9N_Sp1H",
        "YuLbUPP9StQ8",
        "f5W1vOIoSwHe",
        "MWDGBXktSyLm",
        "vfREalc9S034"
      ],
      "authorship_tag": "ABX9TyOlNx10MU1mBehZmgJ0OUuy",
      "include_colab_link": true
    },
    "kernelspec": {
      "name": "python3",
      "display_name": "Python 3"
    },
    "language_info": {
      "name": "python"
    }
  },
  "cells": [
    {
      "cell_type": "markdown",
      "metadata": {
        "id": "view-in-github",
        "colab_type": "text"
      },
      "source": [
        "<a href=\"https://colab.research.google.com/github/DongWooLeee/TheSonG/blob/main/NewsIndexMaker_ver2.ipynb\" target=\"_parent\"><img src=\"https://colab.research.google.com/assets/colab-badge.svg\" alt=\"Open In Colab\"/></a>"
      ]
    },
    {
      "cell_type": "markdown",
      "source": [
        "# 2021"
      ],
      "metadata": {
        "id": "k_ekhPxdSloq"
      }
    },
    {
      "cell_type": "code",
      "execution_count": null,
      "metadata": {
        "colab": {
          "base_uri": "https://localhost:8080/"
        },
        "id": "W0mLrYbEEmnJ",
        "outputId": "55defd4c-ad47-467d-946b-e0a87151db0f"
      },
      "outputs": [
        {
          "output_type": "stream",
          "name": "stdout",
          "text": [
            "Drive already mounted at /content/drive; to attempt to forcibly remount, call drive.mount(\"/content/drive\", force_remount=True).\n"
          ]
        }
      ],
      "source": [
        "import numpy as np\n",
        "import pandas as pd\n",
        "import os\n",
        "from google.colab import drive\n",
        "drive.mount('/content/drive')\n",
        "#이렇게 위치. GDRIVE란 딱 들어가면 -> 거기에 JongSul이라는 폴더를 생성 -> Jongsul 안에는 2022의 폴더가 현재 있는 셈. 각자 할당받은 연도의 폴더를 디렉토리로 설정을 하고 실행.\n",
        "os.chdir('/content/drive/MyDrive/JongSul/2021')"
      ]
    },
    {
      "cell_type": "code",
      "source": [
        "#데이터셋 임포트. 이 파트를 바꾸어 주어야 함... \n",
        "GANGWON_2022 = pd.read_csv('강원 출산_2021.csv',encoding='utf-8')\n",
        "GYEONGI_2022 = pd.read_csv('경기 출산_2021.csv',encoding='utf-8')\n",
        "GYEONGBUK_2022 = pd.read_csv('경북 출산_2021.csv',encoding='utf-8')\n",
        "GYEONGNAM_2022 = pd.read_csv('경남 출산_2021.csv',encoding='utf-8')\n",
        "CHOONGBUK_2022 = pd.read_csv('충북 출산_2021.csv',encoding='utf-8')\n",
        "CHOONGNAM_2022 = pd.read_csv('충남 출산_2021.csv',encoding='utf-8')\n",
        "GWANGJU_2022 = pd.read_csv('광주 출산_2021.csv',encoding='utf-8')\n",
        "DAEGU_2022 = pd.read_csv('대구 출산_2021.csv',encoding='utf-8')\n",
        "DAEJEON_2022 = pd.read_csv('대전 출산_2021.csv',encoding='utf-8')\n",
        "PUSAN_2022 = pd.read_csv('부산 출산_2021.csv',encoding='utf-8')\n",
        "SEOUL_2022 = pd.read_csv('서울 출산_2021.csv',encoding='utf-8')\n",
        "SEJONG_2022 = pd.read_csv('세종 출산_2021.csv',encoding='utf-8')\n",
        "ULSAN_2022 = pd.read_csv('울산 출산_2021.csv',encoding='utf-8')\n",
        "INCHEON_2022 = pd.read_csv('인천 출산_2021.csv',encoding='utf-8')\n",
        "CHEONBUK_2022 = pd.read_csv('전북 출산_2021.csv',encoding='utf-8')\n",
        "CHEONNAM_2022 = pd.read_csv('전남 출산_2021.csv',encoding='utf-8')\n",
        "JEJU_2022 = pd.read_csv('제주 출산_2021.csv',encoding='utf-8')\n",
        "\n",
        "\n",
        "\n",
        "\n"
      ],
      "metadata": {
        "id": "3n6WtbyQEoEo"
      },
      "execution_count": null,
      "outputs": []
    },
    {
      "cell_type": "code",
      "source": [
        "#필요한 라이브러리 설치\n",
        "!pip install nltk\n",
        "!pip install konlpy"
      ],
      "metadata": {
        "colab": {
          "base_uri": "https://localhost:8080/"
        },
        "id": "6j0TzWqhEyjz",
        "outputId": "3b10ea3a-792f-4e96-ac73-86eb26bb1acb"
      },
      "execution_count": null,
      "outputs": [
        {
          "output_type": "stream",
          "name": "stdout",
          "text": [
            "Looking in indexes: https://pypi.org/simple, https://us-python.pkg.dev/colab-wheels/public/simple/\n",
            "Requirement already satisfied: nltk in /usr/local/lib/python3.9/dist-packages (3.8.1)\n",
            "Requirement already satisfied: tqdm in /usr/local/lib/python3.9/dist-packages (from nltk) (4.65.0)\n",
            "Requirement already satisfied: click in /usr/local/lib/python3.9/dist-packages (from nltk) (8.1.3)\n",
            "Requirement already satisfied: regex>=2021.8.3 in /usr/local/lib/python3.9/dist-packages (from nltk) (2022.10.31)\n",
            "Requirement already satisfied: joblib in /usr/local/lib/python3.9/dist-packages (from nltk) (1.2.0)\n",
            "Looking in indexes: https://pypi.org/simple, https://us-python.pkg.dev/colab-wheels/public/simple/\n",
            "Requirement already satisfied: konlpy in /usr/local/lib/python3.9/dist-packages (0.6.0)\n",
            "Requirement already satisfied: numpy>=1.6 in /usr/local/lib/python3.9/dist-packages (from konlpy) (1.22.4)\n",
            "Requirement already satisfied: JPype1>=0.7.0 in /usr/local/lib/python3.9/dist-packages (from konlpy) (1.4.1)\n",
            "Requirement already satisfied: lxml>=4.1.0 in /usr/local/lib/python3.9/dist-packages (from konlpy) (4.9.2)\n",
            "Requirement already satisfied: packaging in /usr/local/lib/python3.9/dist-packages (from JPype1>=0.7.0->konlpy) (23.1)\n"
          ]
        }
      ]
    },
    {
      "cell_type": "code",
      "source": [
        "#한글 깨짐을 방지하기 위함\n",
        "!apt-get update -qq\n",
        "!apt-get install fonts-nanum* -qq"
      ],
      "metadata": {
        "id": "n2z8EB5nE2B_"
      },
      "execution_count": null,
      "outputs": []
    },
    {
      "cell_type": "code",
      "source": [
        "#기본적인 라이브러리 임포트\n",
        "#Mecab가 형태소분석기에서 한국어는 제일 잘해주기는 하는데 설치가 개같아서 Okt를 사용\n",
        "import pandas as pd\n",
        "from konlpy.tag import Okt\n",
        "from collections import Counter\n",
        "from wordcloud import WordCloud\n",
        "import matplotlib.pyplot as plt\n"
      ],
      "metadata": {
        "id": "-HD8K17CE3VY"
      },
      "execution_count": null,
      "outputs": []
    },
    {
      "cell_type": "code",
      "source": [
        "#누군가의 깃헙에서 가져온 한국어 stop_words\n",
        "stop_words = \"아 휴 아이구 아이쿠 아이고 어 나 우리 저희 따라 의해 을 를 에 의 가 으로 로 에게 뿐이다 의거하여 근거하여 입각하여 기준으로 예하면 예를 들면 예를 들자면 저 소인 소생 저희 지말고 하지마 하지마라 다른 물론 또한 그리고 비길수 없다 해서는 안된다 뿐만 아니라 만이 아니다 만은 아니다 막론하고 관계없이 그치지 않다 그러나 그런데 하지만 든간에 논하지 않다 따지지 않다 설사 비록 더라도 아니면 만 못하다 하는 편이 낫다 불문하고 향하여 향해서 향하다 쪽으로 틈타 이용하여 타다 오르다 제외하고 이 외에 이 밖에 하여야 비로소 한다면 몰라도 외에도 이곳 여기 부터 기점으로 따라서 할 생각이다 하려고하다 이리하여 그리하여 그렇게 함으로써 하지만 일때 할때 앞에서 중에서 보는데서 으로써 로써 까지 해야한다 일것이다 반드시 할줄알다 할수있다 할수있어 임에 틀림없다 한다면 등 등등 제 겨우 단지 다만 할뿐 딩동 댕그 대해서 대하여 대하면 훨씬 얼마나 얼마만큼 얼마큼 남짓 여 얼마간 약간 다소 좀 조금 다수 몇 얼마 지만 하물며 또한 그러나 그렇지만 하지만 이외에도 대해 말하자면 뿐이다 다음에 반대로 반대로 말하자면 이와 반대로 바꾸어서 말하면 바꾸어서 한다면 만약 그렇지않으면 까악 툭 딱 삐걱거리다 보드득 비걱거리다 꽈당 응당 해야한다 에 가서 각 각각 여러분 각종 각자 제각기 하도록하다 와 과 그러므로 그래서 고로 한 까닭에 하기 때문에 거니와 이지만 대하여 관하여 관한 과연 실로 아니나다를가 생각한대로 진짜로 한적이있다 하곤하였다 하 하하 허허 아하 거바 와 오 왜 어째서 무엇때문에 어찌 하겠는가 무슨 어디 어느곳 더군다나 하물며 더욱이는 어느때 언제 야 이봐 어이 여보시오 흐흐 흥 휴 헉헉 헐떡헐떡 영차 여차 어기여차 끙끙 아야 앗 아야 콸콸 졸졸 좍좍 뚝뚝 주룩주룩 솨 우르르 그래도 또 그리고 바꾸어말하면 바꾸어말하자면 혹은 혹시 답다 및 그에 따르는 때가 되어 즉 지든지 설령 가령 하더라도 할지라도 일지라도 지든지 몇 거의 하마터면 인젠 이젠 된바에야 된이상 만큼 어찌됏든 그위에 게다가 점에서 보아 비추어 보아 고려하면 하게될것이다 일것이다 비교적 좀 보다더 비하면 시키다 하게하다 할만하다 의해서 연이서 이어서 잇따라 뒤따라 뒤이어 결국 의지하여 기대여 통하여 자마자 더욱더 불구하고 얼마든지 마음대로 주저하지 않고 곧 즉시 바로 당장 하자마자 밖에 안된다 하면된다 그래 그렇지 요컨대 다시 말하자면 바꿔 말하면 즉 구체적으로 말하자면 시작하여 시초에 이상 허 헉 허걱 바와같이 해도좋다 해도된다 게다가 더구나 하물며 와르르 팍 퍽 펄렁 동안 이래 하고있었다 이었다 에서 로부터 까지 예하면 했어요 해요 함께 같이 더불어 마저 마저도 양자 모두 습니다 가까스로 하려고하다 즈음하여 다른 다른 방면으로 해봐요 습니까 했어요 말할것도 없고 무릎쓰고 개의치않고 하는것만 못하다 하는것이 낫다 매 매번 들 모 어느것 어느 로써 갖고말하자면 어디 어느쪽 어느것 어느해 어느 년도 라 해도 언젠가 어떤것 어느것 저기 저쪽 저것 그때 그럼 그러면 요만한걸 그래 그때 저것만큼 그저 이르기까지 할 줄 안다 할 힘이 있다 너 너희 당신 어찌 설마 차라리 할지언정 할지라도 할망정 할지언정 구토하다 게우다 토하다 메쓰겁다 옆사람 퉤 쳇 의거하여 근거하여 의해 따라 힘입어 그 다음 버금 두번째로 기타 첫번째로 나머지는 그중에서 견지에서 형식으로 쓰여 입장에서 위해서 단지 의해되다 하도록시키다 뿐만아니라 반대로 전후 전자 앞의것 잠시 잠깐 하면서 그렇지만 다음에 그러한즉 그런즉 남들 아무거나 어찌하든지 같다 비슷하다 예컨대 이럴정도로 어떻게 만약 만일 위에서 서술한바와같이 인 듯하다 하지 않는다면 만약에 무엇 무슨 어느 어떤 아래윗 조차 한데 그럼에도 불구하고 여전히 심지어 까지도 조차도 하지 않도록 않기 위하여 때 시각 무렵 시간 동안 어때 어떠한 하여금 네 예 우선 누구 누가 알겠는가 아무도 줄은모른다 줄은 몰랏다 하는 김에 겸사겸사 하는바 그런 까닭에 한 이유는 그러니 그러니까 때문에 그 너희 그들 너희들 타인 것 것들 너 위하여 공동으로 동시에 하기 위하여 어찌하여 무엇때문에 붕붕 윙윙 나 우리 엉엉 휘익 윙윙 오호 아하 어쨋든 만 못하다 하기보다는 차라리 하는 편이 낫다 흐흐 놀라다 상대적으로 말하자면 마치 아니라면 쉿 그렇지 않으면 그렇지 않다면 안 그러면 아니었다면 하든지 아니면 이라면 좋아 알았어 하는것도 그만이다 어쩔수 없다 하나 일 일반적으로 일단 한켠으로는 오자마자 이렇게되면 이와같다면 전부 한마디 한항목 근거로 하기에 아울러 하지 않도록 않기 위해서 이르기까지 이 되다 로 인하여 까닭으로 이유만으로 이로 인하여 그래서 이 때문에 그러므로 그런 까닭에 알 수 있다 결론을 낼 수 있다 으로 인하여 있다 어떤것 관계가 있다 관련이 있다 연관되다 어떤것들 에 대해 이리하여 그리하여 여부 하기보다는 하느니 하면 할수록 운운 이러이러하다 하구나 하도다 다시말하면 다음으로 에 있다 에 달려 있다 우리 우리들 오히려 하기는한데 어떻게 어떻해 어찌됏어 어때 어째서 본대로 자 이 이쪽 여기 이것 이번 이렇게말하자면 이런 이러한 이와 같은 요만큼 요만한 것 얼마 안 되는 것 이만큼 이 정도의 이렇게 많은 것 이와 같다 이때 이렇구나 것과 같이 끼익 삐걱 따위 와 같은 사람들 부류의 사람들 왜냐하면 중의하나 오직 오로지 에 한하다 하기만 하면 도착하다 까지 미치다 도달하다 정도에 이르다 할 지경이다 결과에 이르다 관해서는 여러분 하고 있다 한 후 혼자 자기 자기집 자신 우에 종합한것과같이 총적으로 보면 총적으로 말하면 총적으로 대로 하다 으로서 참 그만이다 할 따름이다 쿵 탕탕 쾅쾅 둥둥 봐 봐라 아이야 아니 와아 응 아이 참나 년 월 일 령 영 일 이 삼 사 오 육 륙 칠 팔 구 이천육 이천칠 이천팔 이천구 하나 둘 셋 넷 다섯 여섯 일곱 여덟 아홉 령 영 이 있 하 것 들 그 되 수 이 보 않 없 나 사람 주 아니 등 같 우리 때 년 가 한 지 대하 오 말 일 그렇 위하 때문 그것 두 말하 알 그러나 받 못하 일 그런 또 문제 더 사회 많 그리고 좋 크 따르 중 나오 가지 씨 시키 만들 지금 생각하 그러 속 하나 집 살 모르 적 월 데 자신 안 어떤 내 내 경우 명 생각 시간 그녀 다시 이런 앞 보이 번 나 다른 어떻 여자 개 전 들 사실 이렇 점 싶 말 정도 좀 원 잘 통하 놓\"\n",
        "stop_words=stop_words.split(' ')\n"
      ],
      "metadata": {
        "id": "YOOXuEzCFcAc"
      },
      "execution_count": null,
      "outputs": []
    },
    {
      "cell_type": "code",
      "source": [
        "import re\n",
        "def clean_html_tags(text):\n",
        "    # HTML 태그 제거\n",
        "    cleanr = re.compile('<.*?>')\n",
        "    cleantext = re.sub(cleanr, '', text)\n",
        "    return cleantext"
      ],
      "metadata": {
        "id": "tavvLZ5KFSdR"
      },
      "execution_count": null,
      "outputs": []
    },
    {
      "cell_type": "code",
      "source": [
        "def clean_special_chars(text):\n",
        "    # 특수문자 제거\n",
        "    text = re.sub('[^가-힣ㄱ-ㅎㅏ-ㅣa-zA-Z0-9\\\\s]', '', text)\n",
        "    return text"
      ],
      "metadata": {
        "id": "xeZchRpHFTdJ"
      },
      "execution_count": null,
      "outputs": []
    },
    {
      "cell_type": "code",
      "source": [
        "def remove_stopwords(tokens):\n",
        "    # 불용어 제거\n",
        "    tokens = [word for word in tokens if word not in stop_words]\n",
        "    return tokens"
      ],
      "metadata": {
        "id": "dS3M456nFTf_"
      },
      "execution_count": null,
      "outputs": []
    },
    {
      "cell_type": "code",
      "source": [
        "city_dict = {'강원':0, '경기':1,'경북':2,'경남':3,\n",
        "             '충북':4,'충남':5,'광주':6,'대구':7,\n",
        "             '대전':8,'부산':9,'서울':10,'세종':11,\n",
        "             '울산':12,'인천':13,'전북':14,'전남':15,\n",
        "             '제주':16}"
      ],
      "metadata": {
        "id": "REi9rUuqFTiE"
      },
      "execution_count": null,
      "outputs": []
    },
    {
      "cell_type": "code",
      "source": [
        "city_dict = {v:k for k,v in city_dict.items()}\n",
        "city_dict\n"
      ],
      "metadata": {
        "colab": {
          "base_uri": "https://localhost:8080/"
        },
        "id": "sqBJUvmJFTkf",
        "outputId": "1c09567e-428b-4bb0-fb39-abf07be9fa2e"
      },
      "execution_count": null,
      "outputs": [
        {
          "output_type": "execute_result",
          "data": {
            "text/plain": [
              "{0: '강원',\n",
              " 1: '경기',\n",
              " 2: '경북',\n",
              " 3: '경남',\n",
              " 4: '충북',\n",
              " 5: '충남',\n",
              " 6: '광주',\n",
              " 7: '대구',\n",
              " 8: '대전',\n",
              " 9: '부산',\n",
              " 10: '서울',\n",
              " 11: '세종',\n",
              " 12: '울산',\n",
              " 13: '인천',\n",
              " 14: '전북',\n",
              " 15: '전남',\n",
              " 16: '제주'}"
            ]
          },
          "metadata": {},
          "execution_count": 27
        }
      ]
    },
    {
      "cell_type": "code",
      "source": [],
      "metadata": {
        "id": "eK6PyR3OFTnG"
      },
      "execution_count": null,
      "outputs": []
    },
    {
      "cell_type": "code",
      "source": [
        "\n",
        "\n",
        "loc_df_list = [GANGWON_2022,GYEONGI_2022,GYEONGBUK_2022, GYEONGNAM_2022,\n",
        "                      CHOONGBUK_2022,CHOONGNAM_2022,GWANGJU_2022,DAEGU_2022,\n",
        "                       DAEJEON_2022,PUSAN_2022,SEOUL_2022,SEJONG_2022,\n",
        "                       ULSAN_2022,INCHEON_2022,CHEONBUK_2022,CHEONNAM_2022,\n",
        "                       JEJU_2022]\n",
        "\n",
        "k=0\n",
        "for df_ in loc_df_list:\n",
        "\n",
        "  df_['content'] = df_['content'].apply(lambda x: clean_html_tags(x))\n",
        "  df_['content'] = df_['content'].apply(lambda x: clean_special_chars(x))\n",
        "  okt = Okt()\n",
        "  df_['content_pos'] = df_['content'].apply(okt.pos)\n",
        "  df_['content_nouns'] = df_['content_pos'].apply(lambda x: [word for (word, pos) in x if pos in ['Noun'] and word not in stop_words])\n",
        "  df_['content_nouns'] = df_['content_nouns'].apply(lambda x: remove_stopwords(x))\n",
        "  words = sum(df_['content_nouns'], [])\n",
        "  word_counter = Counter(words)\n",
        "  with open('Pos_dict.txt', 'r', encoding='utf-8') as f:\n",
        "    words = f.read().split()\n",
        "  from collections import defaultdict\n",
        "\n",
        "  # 각 단어가 데이터프레임의 'content' 열에 몇 번 등장하는지 세기\n",
        "  word_countss = defaultdict(int)\n",
        "  for word in words:\n",
        "    for content in df_['content_nouns']:\n",
        "      if word in content:\n",
        "          word_countss[word] += 1\n",
        "  df = pd.DataFrame.from_dict(word_countss, orient='index', columns=['count'])\n",
        "\n",
        "  with open('Neg_dict.txt', 'r', encoding='utf-8') as f:\n",
        "      words = f.read().split()\n",
        "\n",
        "  # 각 단어가 데이터프레임의 'content' 열에 몇 번 등장하는지 세기\n",
        "  word_countsss = defaultdict(int)\n",
        "  for word in words:\n",
        "    for content in df_['content_nouns']:\n",
        "      if word in content:\n",
        "          word_countsss[word] += 1\n",
        "  df_neg = pd.DataFrame.from_dict(word_countsss, orient='index', columns=['count'])\n",
        "\n",
        "\n",
        "  pos_words = df['count'].sum()\n",
        "  neg_words = df_neg['count'].sum()\n",
        "  location = city_dict.get(k)\n",
        "  print('{} 지역의 긍정단어 수는'.format(location),pos_words)\n",
        "  print('{} 지역의 부정단어 수는'.format(location),neg_words)\n",
        "  print('{} 지역의 부정단어 비율은'.format(location),neg_words/(pos_words+neg_words))\n",
        "\n",
        "  k+=1\n",
        "\n",
        "\n"
      ],
      "metadata": {
        "colab": {
          "base_uri": "https://localhost:8080/"
        },
        "id": "HPqvZB3fE4Tf",
        "outputId": "716e81f5-5935-44a6-888f-019c24f03fa5"
      },
      "execution_count": null,
      "outputs": [
        {
          "output_type": "stream",
          "name": "stdout",
          "text": [
            "강원 지역의 긍정단어 수는 11211\n",
            "강원 지역의 부정단어 수는 14947\n",
            "강원 지역의 부정단어 비율은 0.5714121874761068\n",
            "경기 지역의 긍정단어 수는 8855\n",
            "경기 지역의 부정단어 수는 13201\n",
            "경기 지역의 부정단어 비율은 0.5985219441421835\n",
            "경북 지역의 긍정단어 수는 5635\n",
            "경북 지역의 부정단어 수는 9157\n",
            "경북 지역의 부정단어 비율은 0.6190508382909681\n",
            "경남 지역의 긍정단어 수는 5780\n",
            "경남 지역의 부정단어 수는 8035\n",
            "경남 지역의 부정단어 비율은 0.5816141874773797\n",
            "충북 지역의 긍정단어 수는 5721\n",
            "충북 지역의 부정단어 수는 8163\n",
            "충북 지역의 부정단어 비율은 0.587942955920484\n",
            "충남 지역의 긍정단어 수는 4896\n",
            "충남 지역의 부정단어 수는 5859\n",
            "충남 지역의 부정단어 비율은 0.5447698744769874\n",
            "광주 지역의 긍정단어 수는 4193\n",
            "광주 지역의 부정단어 수는 4523\n",
            "광주 지역의 부정단어 비율은 0.5189307021569527\n",
            "대구 지역의 긍정단어 수는 6288\n",
            "대구 지역의 부정단어 수는 8729\n",
            "대구 지역의 부정단어 비율은 0.5812745555037624\n",
            "대전 지역의 긍정단어 수는 5276\n",
            "대전 지역의 부정단어 수는 7797\n",
            "대전 지역의 부정단어 비율은 0.5964201025013386\n",
            "부산 지역의 긍정단어 수는 6921\n",
            "부산 지역의 부정단어 수는 8446\n",
            "부산 지역의 부정단어 비율은 0.5496193141146613\n",
            "서울 지역의 긍정단어 수는 10200\n",
            "서울 지역의 부정단어 수는 14602\n",
            "서울 지역의 부정단어 비율은 0.5887428433190872\n",
            "세종 지역의 긍정단어 수는 8743\n",
            "세종 지역의 부정단어 수는 13513\n",
            "세종 지역의 부정단어 비율은 0.6071621135873473\n",
            "울산 지역의 긍정단어 수는 7958\n",
            "울산 지역의 부정단어 수는 10170\n",
            "울산 지역의 부정단어 비율은 0.5610105913503972\n",
            "인천 지역의 긍정단어 수는 4892\n",
            "인천 지역의 부정단어 수는 8987\n",
            "인천 지역의 부정단어 비율은 0.6475250378269328\n",
            "전북 지역의 긍정단어 수는 5383\n",
            "전북 지역의 부정단어 수는 7436\n",
            "전북 지역의 부정단어 비율은 0.5800764490209844\n",
            "전남 지역의 긍정단어 수는 5528\n",
            "전남 지역의 부정단어 수는 6987\n",
            "전남 지역의 부정단어 비율은 0.5582900519376748\n",
            "제주 지역의 긍정단어 수는 8076\n",
            "제주 지역의 부정단어 수는 10960\n",
            "제주 지역의 부정단어 비율은 0.5757512082370246\n"
          ]
        }
      ]
    },
    {
      "cell_type": "markdown",
      "source": [
        "# 2020"
      ],
      "metadata": {
        "id": "J5QAw9N_Sp1H"
      }
    },
    {
      "cell_type": "code",
      "execution_count": null,
      "metadata": {
        "colab": {
          "base_uri": "https://localhost:8080/"
        },
        "outputId": "077edc2a-ea08-49a1-dfbe-b2ec6037ac0f",
        "id": "IFCobXlaSp1J"
      },
      "outputs": [
        {
          "output_type": "stream",
          "name": "stdout",
          "text": [
            "Drive already mounted at /content/drive; to attempt to forcibly remount, call drive.mount(\"/content/drive\", force_remount=True).\n"
          ]
        }
      ],
      "source": [
        "import numpy as np\n",
        "import pandas as pd\n",
        "import os\n",
        "from google.colab import drive\n",
        "drive.mount('/content/drive')\n",
        "#이렇게 위치. GDRIVE란 딱 들어가면 -> 거기에 JongSul이라는 폴더를 생성 -> Jongsul 안에는 2022의 폴더가 현재 있는 셈. 각자 할당받은 연도의 폴더를 디렉토리로 설정을 하고 실행.\n",
        "os.chdir('/content/drive/MyDrive/JongSul/2020')"
      ]
    },
    {
      "cell_type": "code",
      "source": [
        "#데이터셋 임포트. 이 파트를 바꾸어 주어야 함... \n",
        "GANGWON_2022 = pd.read_csv('강원 출산_2020.csv',encoding='utf-8')\n",
        "GYEONGI_2022 = pd.read_csv('경기 출산_2020.csv',encoding='utf-8')\n",
        "GYEONGBUK_2022 = pd.read_csv('경북 출산_2020.csv',encoding='utf-8')\n",
        "GYEONGNAM_2022 = pd.read_csv('경남 출산_2020.csv',encoding='utf-8')\n",
        "CHOONGBUK_2022 = pd.read_csv('충북 출산_2020.csv',encoding='utf-8')\n",
        "CHOONGNAM_2022 = pd.read_csv('충남 출산_2020.csv',encoding='utf-8')\n",
        "GWANGJU_2022 = pd.read_csv('광주 출산_2020.csv',encoding='utf-8')\n",
        "DAEGU_2022 = pd.read_csv('대구 출산_2020.csv',encoding='utf-8')\n",
        "DAEJEON_2022 = pd.read_csv('대전 출산_2020.csv',encoding='utf-8')\n",
        "PUSAN_2022 = pd.read_csv('부산 출산_2020.csv',encoding='utf-8')\n",
        "SEOUL_2022 = pd.read_csv('서울 출산_2020.csv',encoding='utf-8')\n",
        "SEJONG_2022 = pd.read_csv('세종 출산_2020.csv',encoding='utf-8')\n",
        "ULSAN_2022 = pd.read_csv('울산 출산_2020.csv',encoding='utf-8')\n",
        "INCHEON_2022 = pd.read_csv('인천 출산_2020.csv',encoding='utf-8')\n",
        "CHEONBUK_2022 = pd.read_csv('전북 출산_2020.csv',encoding='utf-8')\n",
        "CHEONNAM_2022 = pd.read_csv('전남 출산_2020.csv',encoding='utf-8')\n",
        "JEJU_2022 = pd.read_csv('제주 출산_2020.csv',encoding='utf-8')\n",
        "\n",
        "\n",
        "\n",
        "\n"
      ],
      "metadata": {
        "id": "inxif--uSp1P"
      },
      "execution_count": null,
      "outputs": []
    },
    {
      "cell_type": "code",
      "source": [
        "#필요한 라이브러리 설치\n",
        "!pip install nltk\n",
        "!pip install konlpy"
      ],
      "metadata": {
        "colab": {
          "base_uri": "https://localhost:8080/"
        },
        "outputId": "e8b34ca5-29fb-49b6-c973-681e385e2822",
        "id": "u4MFZed0Sp1k"
      },
      "execution_count": null,
      "outputs": [
        {
          "output_type": "stream",
          "name": "stdout",
          "text": [
            "Looking in indexes: https://pypi.org/simple, https://us-python.pkg.dev/colab-wheels/public/simple/\n",
            "Requirement already satisfied: nltk in /usr/local/lib/python3.9/dist-packages (3.8.1)\n",
            "Requirement already satisfied: regex>=2021.8.3 in /usr/local/lib/python3.9/dist-packages (from nltk) (2022.10.31)\n",
            "Requirement already satisfied: joblib in /usr/local/lib/python3.9/dist-packages (from nltk) (1.2.0)\n",
            "Requirement already satisfied: click in /usr/local/lib/python3.9/dist-packages (from nltk) (8.1.3)\n",
            "Requirement already satisfied: tqdm in /usr/local/lib/python3.9/dist-packages (from nltk) (4.65.0)\n",
            "Looking in indexes: https://pypi.org/simple, https://us-python.pkg.dev/colab-wheels/public/simple/\n",
            "Requirement already satisfied: konlpy in /usr/local/lib/python3.9/dist-packages (0.6.0)\n",
            "Requirement already satisfied: numpy>=1.6 in /usr/local/lib/python3.9/dist-packages (from konlpy) (1.22.4)\n",
            "Requirement already satisfied: lxml>=4.1.0 in /usr/local/lib/python3.9/dist-packages (from konlpy) (4.9.2)\n",
            "Requirement already satisfied: JPype1>=0.7.0 in /usr/local/lib/python3.9/dist-packages (from konlpy) (1.4.1)\n",
            "Requirement already satisfied: packaging in /usr/local/lib/python3.9/dist-packages (from JPype1>=0.7.0->konlpy) (23.1)\n"
          ]
        }
      ]
    },
    {
      "cell_type": "code",
      "source": [
        "#한글 깨짐을 방지하기 위함\n",
        "!apt-get update -qq\n",
        "!apt-get install fonts-nanum* -qq"
      ],
      "metadata": {
        "id": "x7tymSveSp10"
      },
      "execution_count": null,
      "outputs": []
    },
    {
      "cell_type": "code",
      "source": [
        "#기본적인 라이브러리 임포트\n",
        "#Mecab가 형태소분석기에서 한국어는 제일 잘해주기는 하는데 설치가 개같아서 Okt를 사용\n",
        "import pandas as pd\n",
        "from konlpy.tag import Okt\n",
        "from collections import Counter\n",
        "from wordcloud import WordCloud\n",
        "import matplotlib.pyplot as plt\n"
      ],
      "metadata": {
        "id": "oZpbdi2gSp15"
      },
      "execution_count": null,
      "outputs": []
    },
    {
      "cell_type": "code",
      "source": [
        "#누군가의 깃헙에서 가져온 한국어 stop_words\n",
        "stop_words = \"아 휴 아이구 아이쿠 아이고 어 나 우리 저희 따라 의해 을 를 에 의 가 으로 로 에게 뿐이다 의거하여 근거하여 입각하여 기준으로 예하면 예를 들면 예를 들자면 저 소인 소생 저희 지말고 하지마 하지마라 다른 물론 또한 그리고 비길수 없다 해서는 안된다 뿐만 아니라 만이 아니다 만은 아니다 막론하고 관계없이 그치지 않다 그러나 그런데 하지만 든간에 논하지 않다 따지지 않다 설사 비록 더라도 아니면 만 못하다 하는 편이 낫다 불문하고 향하여 향해서 향하다 쪽으로 틈타 이용하여 타다 오르다 제외하고 이 외에 이 밖에 하여야 비로소 한다면 몰라도 외에도 이곳 여기 부터 기점으로 따라서 할 생각이다 하려고하다 이리하여 그리하여 그렇게 함으로써 하지만 일때 할때 앞에서 중에서 보는데서 으로써 로써 까지 해야한다 일것이다 반드시 할줄알다 할수있다 할수있어 임에 틀림없다 한다면 등 등등 제 겨우 단지 다만 할뿐 딩동 댕그 대해서 대하여 대하면 훨씬 얼마나 얼마만큼 얼마큼 남짓 여 얼마간 약간 다소 좀 조금 다수 몇 얼마 지만 하물며 또한 그러나 그렇지만 하지만 이외에도 대해 말하자면 뿐이다 다음에 반대로 반대로 말하자면 이와 반대로 바꾸어서 말하면 바꾸어서 한다면 만약 그렇지않으면 까악 툭 딱 삐걱거리다 보드득 비걱거리다 꽈당 응당 해야한다 에 가서 각 각각 여러분 각종 각자 제각기 하도록하다 와 과 그러므로 그래서 고로 한 까닭에 하기 때문에 거니와 이지만 대하여 관하여 관한 과연 실로 아니나다를가 생각한대로 진짜로 한적이있다 하곤하였다 하 하하 허허 아하 거바 와 오 왜 어째서 무엇때문에 어찌 하겠는가 무슨 어디 어느곳 더군다나 하물며 더욱이는 어느때 언제 야 이봐 어이 여보시오 흐흐 흥 휴 헉헉 헐떡헐떡 영차 여차 어기여차 끙끙 아야 앗 아야 콸콸 졸졸 좍좍 뚝뚝 주룩주룩 솨 우르르 그래도 또 그리고 바꾸어말하면 바꾸어말하자면 혹은 혹시 답다 및 그에 따르는 때가 되어 즉 지든지 설령 가령 하더라도 할지라도 일지라도 지든지 몇 거의 하마터면 인젠 이젠 된바에야 된이상 만큼 어찌됏든 그위에 게다가 점에서 보아 비추어 보아 고려하면 하게될것이다 일것이다 비교적 좀 보다더 비하면 시키다 하게하다 할만하다 의해서 연이서 이어서 잇따라 뒤따라 뒤이어 결국 의지하여 기대여 통하여 자마자 더욱더 불구하고 얼마든지 마음대로 주저하지 않고 곧 즉시 바로 당장 하자마자 밖에 안된다 하면된다 그래 그렇지 요컨대 다시 말하자면 바꿔 말하면 즉 구체적으로 말하자면 시작하여 시초에 이상 허 헉 허걱 바와같이 해도좋다 해도된다 게다가 더구나 하물며 와르르 팍 퍽 펄렁 동안 이래 하고있었다 이었다 에서 로부터 까지 예하면 했어요 해요 함께 같이 더불어 마저 마저도 양자 모두 습니다 가까스로 하려고하다 즈음하여 다른 다른 방면으로 해봐요 습니까 했어요 말할것도 없고 무릎쓰고 개의치않고 하는것만 못하다 하는것이 낫다 매 매번 들 모 어느것 어느 로써 갖고말하자면 어디 어느쪽 어느것 어느해 어느 년도 라 해도 언젠가 어떤것 어느것 저기 저쪽 저것 그때 그럼 그러면 요만한걸 그래 그때 저것만큼 그저 이르기까지 할 줄 안다 할 힘이 있다 너 너희 당신 어찌 설마 차라리 할지언정 할지라도 할망정 할지언정 구토하다 게우다 토하다 메쓰겁다 옆사람 퉤 쳇 의거하여 근거하여 의해 따라 힘입어 그 다음 버금 두번째로 기타 첫번째로 나머지는 그중에서 견지에서 형식으로 쓰여 입장에서 위해서 단지 의해되다 하도록시키다 뿐만아니라 반대로 전후 전자 앞의것 잠시 잠깐 하면서 그렇지만 다음에 그러한즉 그런즉 남들 아무거나 어찌하든지 같다 비슷하다 예컨대 이럴정도로 어떻게 만약 만일 위에서 서술한바와같이 인 듯하다 하지 않는다면 만약에 무엇 무슨 어느 어떤 아래윗 조차 한데 그럼에도 불구하고 여전히 심지어 까지도 조차도 하지 않도록 않기 위하여 때 시각 무렵 시간 동안 어때 어떠한 하여금 네 예 우선 누구 누가 알겠는가 아무도 줄은모른다 줄은 몰랏다 하는 김에 겸사겸사 하는바 그런 까닭에 한 이유는 그러니 그러니까 때문에 그 너희 그들 너희들 타인 것 것들 너 위하여 공동으로 동시에 하기 위하여 어찌하여 무엇때문에 붕붕 윙윙 나 우리 엉엉 휘익 윙윙 오호 아하 어쨋든 만 못하다 하기보다는 차라리 하는 편이 낫다 흐흐 놀라다 상대적으로 말하자면 마치 아니라면 쉿 그렇지 않으면 그렇지 않다면 안 그러면 아니었다면 하든지 아니면 이라면 좋아 알았어 하는것도 그만이다 어쩔수 없다 하나 일 일반적으로 일단 한켠으로는 오자마자 이렇게되면 이와같다면 전부 한마디 한항목 근거로 하기에 아울러 하지 않도록 않기 위해서 이르기까지 이 되다 로 인하여 까닭으로 이유만으로 이로 인하여 그래서 이 때문에 그러므로 그런 까닭에 알 수 있다 결론을 낼 수 있다 으로 인하여 있다 어떤것 관계가 있다 관련이 있다 연관되다 어떤것들 에 대해 이리하여 그리하여 여부 하기보다는 하느니 하면 할수록 운운 이러이러하다 하구나 하도다 다시말하면 다음으로 에 있다 에 달려 있다 우리 우리들 오히려 하기는한데 어떻게 어떻해 어찌됏어 어때 어째서 본대로 자 이 이쪽 여기 이것 이번 이렇게말하자면 이런 이러한 이와 같은 요만큼 요만한 것 얼마 안 되는 것 이만큼 이 정도의 이렇게 많은 것 이와 같다 이때 이렇구나 것과 같이 끼익 삐걱 따위 와 같은 사람들 부류의 사람들 왜냐하면 중의하나 오직 오로지 에 한하다 하기만 하면 도착하다 까지 미치다 도달하다 정도에 이르다 할 지경이다 결과에 이르다 관해서는 여러분 하고 있다 한 후 혼자 자기 자기집 자신 우에 종합한것과같이 총적으로 보면 총적으로 말하면 총적으로 대로 하다 으로서 참 그만이다 할 따름이다 쿵 탕탕 쾅쾅 둥둥 봐 봐라 아이야 아니 와아 응 아이 참나 년 월 일 령 영 일 이 삼 사 오 육 륙 칠 팔 구 이천육 이천칠 이천팔 이천구 하나 둘 셋 넷 다섯 여섯 일곱 여덟 아홉 령 영 이 있 하 것 들 그 되 수 이 보 않 없 나 사람 주 아니 등 같 우리 때 년 가 한 지 대하 오 말 일 그렇 위하 때문 그것 두 말하 알 그러나 받 못하 일 그런 또 문제 더 사회 많 그리고 좋 크 따르 중 나오 가지 씨 시키 만들 지금 생각하 그러 속 하나 집 살 모르 적 월 데 자신 안 어떤 내 내 경우 명 생각 시간 그녀 다시 이런 앞 보이 번 나 다른 어떻 여자 개 전 들 사실 이렇 점 싶 말 정도 좀 원 잘 통하 놓\"\n",
        "stop_words=stop_words.split(' ')\n"
      ],
      "metadata": {
        "id": "QmLCsTdiSp16"
      },
      "execution_count": null,
      "outputs": []
    },
    {
      "cell_type": "code",
      "source": [
        "import re\n",
        "def clean_html_tags(text):\n",
        "    # HTML 태그 제거\n",
        "    cleanr = re.compile('<.*?>')\n",
        "    cleantext = re.sub(cleanr, '', text)\n",
        "    return cleantext"
      ],
      "metadata": {
        "id": "MJOXp4FZSp2C"
      },
      "execution_count": null,
      "outputs": []
    },
    {
      "cell_type": "code",
      "source": [
        "def clean_special_chars(text):\n",
        "    # 특수문자 제거\n",
        "    text = re.sub('[^가-힣ㄱ-ㅎㅏ-ㅣa-zA-Z0-9\\\\s]', '', text)\n",
        "    return text"
      ],
      "metadata": {
        "id": "yFvPUgM1Sp2F"
      },
      "execution_count": null,
      "outputs": []
    },
    {
      "cell_type": "code",
      "source": [
        "def remove_stopwords(tokens):\n",
        "    # 불용어 제거\n",
        "    tokens = [word for word in tokens if word not in stop_words]\n",
        "    return tokens"
      ],
      "metadata": {
        "id": "lUs30U_gSp2G"
      },
      "execution_count": null,
      "outputs": []
    },
    {
      "cell_type": "code",
      "source": [
        "city_dict = {'강원':0, '경기':1,'경북':2,'경남':3,\n",
        "             '충북':4,'충남':5,'광주':6,'대구':7,\n",
        "             '대전':8,'부산':9,'서울':10,'세종':11,\n",
        "             '울산':12,'인천':13,'전북':14,'전남':15,\n",
        "             '제주':16}"
      ],
      "metadata": {
        "id": "SyKYca1wSp2H"
      },
      "execution_count": null,
      "outputs": []
    },
    {
      "cell_type": "code",
      "source": [
        "city_dict = {v:k for k,v in city_dict.items()}\n",
        "city_dict\n"
      ],
      "metadata": {
        "colab": {
          "base_uri": "https://localhost:8080/"
        },
        "outputId": "f31f8d4e-1993-492e-d757-4e8cdcf376fe",
        "id": "-c9yLf5JSp2H"
      },
      "execution_count": null,
      "outputs": [
        {
          "output_type": "execute_result",
          "data": {
            "text/plain": [
              "{0: '강원',\n",
              " 1: '경기',\n",
              " 2: '경북',\n",
              " 3: '경남',\n",
              " 4: '충북',\n",
              " 5: '충남',\n",
              " 6: '광주',\n",
              " 7: '대구',\n",
              " 8: '대전',\n",
              " 9: '부산',\n",
              " 10: '서울',\n",
              " 11: '세종',\n",
              " 12: '울산',\n",
              " 13: '인천',\n",
              " 14: '전북',\n",
              " 15: '전남',\n",
              " 16: '제주'}"
            ]
          },
          "metadata": {},
          "execution_count": 39
        }
      ]
    },
    {
      "cell_type": "code",
      "source": [],
      "metadata": {
        "id": "IMRuiSP9Sp2J"
      },
      "execution_count": null,
      "outputs": []
    },
    {
      "cell_type": "code",
      "source": [
        "\n",
        "\n",
        "loc_df_list = [GANGWON_2022,GYEONGI_2022,GYEONGBUK_2022, GYEONGNAM_2022,\n",
        "                      CHOONGBUK_2022,CHOONGNAM_2022,GWANGJU_2022,DAEGU_2022,\n",
        "                       DAEJEON_2022,PUSAN_2022,SEOUL_2022,SEJONG_2022,\n",
        "                       ULSAN_2022,INCHEON_2022,CHEONBUK_2022,CHEONNAM_2022,\n",
        "                       JEJU_2022]\n",
        "\n",
        "k=0\n",
        "for df_ in loc_df_list:\n",
        "\n",
        "  df_['content'] = df_['content'].apply(lambda x: clean_html_tags(x))\n",
        "  df_['content'] = df_['content'].apply(lambda x: clean_special_chars(x))\n",
        "  okt = Okt()\n",
        "  df_['content_pos'] = df_['content'].apply(okt.pos)\n",
        "  df_['content_nouns'] = df_['content_pos'].apply(lambda x: [word for (word, pos) in x if pos in ['Noun'] and word not in stop_words])\n",
        "  df_['content_nouns'] = df_['content_nouns'].apply(lambda x: remove_stopwords(x))\n",
        "  words = sum(df_['content_nouns'], [])\n",
        "  word_counter = Counter(words)\n",
        "  with open('Pos_dict.txt', 'r', encoding='utf-8') as f:\n",
        "    words = f.read().split()\n",
        "  from collections import defaultdict\n",
        "\n",
        "  # 각 단어가 데이터프레임의 'content' 열에 몇 번 등장하는지 세기\n",
        "  word_countss = defaultdict(int)\n",
        "  for word in words:\n",
        "    for content in df_['content_nouns']:\n",
        "      if word in content:\n",
        "          word_countss[word] += 1\n",
        "  df = pd.DataFrame.from_dict(word_countss, orient='index', columns=['count'])\n",
        "\n",
        "  with open('Neg_dict.txt', 'r', encoding='utf-8') as f:\n",
        "      words = f.read().split()\n",
        "\n",
        "  # 각 단어가 데이터프레임의 'content' 열에 몇 번 등장하는지 세기\n",
        "  word_countsss = defaultdict(int)\n",
        "  for word in words:\n",
        "    for content in df_['content_nouns']:\n",
        "      if word in content:\n",
        "          word_countsss[word] += 1\n",
        "  df_neg = pd.DataFrame.from_dict(word_countsss, orient='index', columns=['count'])\n",
        "\n",
        "\n",
        "  pos_words = df['count'].sum()\n",
        "  neg_words = df_neg['count'].sum()\n",
        "  location = city_dict.get(k)\n",
        "  print('{} 지역의 긍정단어 수는'.format(location),pos_words)\n",
        "  print('{} 지역의 부정단어 수는'.format(location),neg_words)\n",
        "  print('{} 지역의 부정단어 비율은'.format(location),neg_words/(pos_words+neg_words))\n",
        "\n",
        "  k+=1\n",
        "\n",
        "\n"
      ],
      "metadata": {
        "colab": {
          "base_uri": "https://localhost:8080/"
        },
        "outputId": "abc76164-2b60-4abf-aba5-05f757219fc8",
        "id": "Gz_2iei4Sp2J"
      },
      "execution_count": null,
      "outputs": [
        {
          "output_type": "stream",
          "name": "stdout",
          "text": [
            "강원 지역의 긍정단어 수는 9846\n",
            "강원 지역의 부정단어 수는 15088\n",
            "강원 지역의 부정단어 비율은 0.6051175102269993\n",
            "경기 지역의 긍정단어 수는 7888\n",
            "경기 지역의 부정단어 수는 10822\n",
            "경기 지역의 부정단어 비율은 0.5784072688401924\n",
            "경북 지역의 긍정단어 수는 4498\n",
            "경북 지역의 부정단어 수는 5676\n",
            "경북 지역의 부정단어 비율은 0.5578926675840378\n",
            "경남 지역의 긍정단어 수는 7990\n",
            "경남 지역의 부정단어 수는 11899\n",
            "경남 지역의 부정단어 비율은 0.5982704007240183\n",
            "충북 지역의 긍정단어 수는 4997\n",
            "충북 지역의 부정단어 수는 7468\n",
            "충북 지역의 부정단어 비율은 0.599117529081428\n",
            "충남 지역의 긍정단어 수는 3225\n",
            "충남 지역의 부정단어 수는 4061\n",
            "충남 지역의 부정단어 비율은 0.5573702992039528\n",
            "광주 지역의 긍정단어 수는 4053\n",
            "광주 지역의 부정단어 수는 5557\n",
            "광주 지역의 부정단어 비율은 0.578251821019771\n",
            "대구 지역의 긍정단어 수는 7213\n",
            "대구 지역의 부정단어 수는 11498\n",
            "대구 지역의 부정단어 비율은 0.6145048367270589\n",
            "대전 지역의 긍정단어 수는 4746\n",
            "대전 지역의 부정단어 수는 7611\n",
            "대전 지역의 부정단어 비율은 0.6159261956785628\n",
            "부산 지역의 긍정단어 수는 10379\n",
            "부산 지역의 부정단어 수는 15668\n",
            "부산 지역의 부정단어 비율은 0.6015280070641532\n",
            "서울 지역의 긍정단어 수는 12932\n",
            "서울 지역의 부정단어 수는 18707\n",
            "서울 지역의 부정단어 비율은 0.5912639463952717\n",
            "세종 지역의 긍정단어 수는 6970\n",
            "세종 지역의 부정단어 수는 9332\n",
            "세종 지역의 부정단어 비율은 0.5724450987608882\n",
            "울산 지역의 긍정단어 수는 8862\n",
            "울산 지역의 부정단어 수는 11875\n",
            "울산 지역의 부정단어 비율은 0.5726479240005786\n",
            "인천 지역의 긍정단어 수는 5240\n",
            "인천 지역의 부정단어 수는 8337\n",
            "인천 지역의 부정단어 비율은 0.6140531781689622\n",
            "전북 지역의 긍정단어 수는 4050\n",
            "전북 지역의 부정단어 수는 4571\n",
            "전북 지역의 부정단어 비율은 0.5302169121911611\n",
            "전남 지역의 긍정단어 수는 5000\n",
            "전남 지역의 부정단어 수는 6084\n",
            "전남 지역의 부정단어 비율은 0.5488993143269578\n",
            "제주 지역의 긍정단어 수는 6562\n",
            "제주 지역의 부정단어 수는 10903\n",
            "제주 지역의 부정단어 비율은 0.6242771256799313\n"
          ]
        }
      ]
    },
    {
      "cell_type": "markdown",
      "source": [
        "# 2019"
      ],
      "metadata": {
        "id": "YuLbUPP9StQ8"
      }
    },
    {
      "cell_type": "code",
      "execution_count": null,
      "metadata": {
        "colab": {
          "base_uri": "https://localhost:8080/"
        },
        "outputId": "db812678-6fa9-4126-9bd8-9c7141582bad",
        "id": "dwjkHU0NStQ-"
      },
      "outputs": [
        {
          "output_type": "stream",
          "name": "stdout",
          "text": [
            "Drive already mounted at /content/drive; to attempt to forcibly remount, call drive.mount(\"/content/drive\", force_remount=True).\n"
          ]
        }
      ],
      "source": [
        "import numpy as np\n",
        "import pandas as pd\n",
        "import os\n",
        "from google.colab import drive\n",
        "drive.mount('/content/drive')\n",
        "#이렇게 위치. GDRIVE란 딱 들어가면 -> 거기에 JongSul이라는 폴더를 생성 -> Jongsul 안에는 2022의 폴더가 현재 있는 셈. 각자 할당받은 연도의 폴더를 디렉토리로 설정을 하고 실행.\n",
        "os.chdir('/content/drive/MyDrive/JongSul/2019')"
      ]
    },
    {
      "cell_type": "code",
      "source": [
        "#데이터셋 임포트. 이 파트를 바꾸어 주어야 함... \n",
        "GANGWON_2022 = pd.read_csv('강원 출산_2019.csv',encoding='utf-8')\n",
        "GYEONGI_2022 = pd.read_csv('경기 출산_2019.csv',encoding='utf-8')\n",
        "GYEONGBUK_2022 = pd.read_csv('경북 출산_2019.csv',encoding='utf-8')\n",
        "GYEONGNAM_2022 = pd.read_csv('경남 출산_2019.csv',encoding='utf-8')\n",
        "CHOONGBUK_2022 = pd.read_csv('충북 출산_2019.csv',encoding='utf-8')\n",
        "CHOONGNAM_2022 = pd.read_csv('충남 출산_2019.csv',encoding='utf-8')\n",
        "GWANGJU_2022 = pd.read_csv('광주 출산_2019.csv',encoding='utf-8')\n",
        "DAEGU_2022 = pd.read_csv('대구 출산_2019.csv',encoding='utf-8')\n",
        "DAEJEON_2022 = pd.read_csv('대전 출산_2019.csv',encoding='utf-8')\n",
        "PUSAN_2022 = pd.read_csv('부산 출산_2019.csv',encoding='utf-8')\n",
        "SEOUL_2022 = pd.read_csv('서울 출산_2019.csv',encoding='utf-8')\n",
        "SEJONG_2022 = pd.read_csv('세종 출산_2019.csv',encoding='utf-8')\n",
        "ULSAN_2022 = pd.read_csv('울산 출산_2019.csv',encoding='utf-8')\n",
        "INCHEON_2022 = pd.read_csv('인천 출산_2019.csv',encoding='utf-8')\n",
        "CHEONBUK_2022 = pd.read_csv('전북 출산_2019.csv',encoding='utf-8')\n",
        "CHEONNAM_2022 = pd.read_csv('전남 출산_2019.csv',encoding='utf-8')\n",
        "JEJU_2022 = pd.read_csv('제주 출산_2019.csv',encoding='utf-8')\n",
        "\n",
        "\n",
        "\n",
        "\n"
      ],
      "metadata": {
        "id": "_IY_qxEQStQ_"
      },
      "execution_count": null,
      "outputs": []
    },
    {
      "cell_type": "code",
      "source": [
        "#필요한 라이브러리 설치\n",
        "!pip install nltk\n",
        "!pip install konlpy"
      ],
      "metadata": {
        "colab": {
          "base_uri": "https://localhost:8080/"
        },
        "outputId": "1b5fee7e-94e9-42d8-d5ed-a67147ed08fa",
        "id": "iBSWBHcUStRA"
      },
      "execution_count": null,
      "outputs": [
        {
          "output_type": "stream",
          "name": "stdout",
          "text": [
            "Looking in indexes: https://pypi.org/simple, https://us-python.pkg.dev/colab-wheels/public/simple/\n",
            "Requirement already satisfied: nltk in /usr/local/lib/python3.9/dist-packages (3.8.1)\n",
            "Requirement already satisfied: tqdm in /usr/local/lib/python3.9/dist-packages (from nltk) (4.65.0)\n",
            "Requirement already satisfied: click in /usr/local/lib/python3.9/dist-packages (from nltk) (8.1.3)\n",
            "Requirement already satisfied: joblib in /usr/local/lib/python3.9/dist-packages (from nltk) (1.2.0)\n",
            "Requirement already satisfied: regex>=2021.8.3 in /usr/local/lib/python3.9/dist-packages (from nltk) (2022.10.31)\n",
            "Looking in indexes: https://pypi.org/simple, https://us-python.pkg.dev/colab-wheels/public/simple/\n",
            "Requirement already satisfied: konlpy in /usr/local/lib/python3.9/dist-packages (0.6.0)\n",
            "Requirement already satisfied: lxml>=4.1.0 in /usr/local/lib/python3.9/dist-packages (from konlpy) (4.9.2)\n",
            "Requirement already satisfied: numpy>=1.6 in /usr/local/lib/python3.9/dist-packages (from konlpy) (1.22.4)\n",
            "Requirement already satisfied: JPype1>=0.7.0 in /usr/local/lib/python3.9/dist-packages (from konlpy) (1.4.1)\n",
            "Requirement already satisfied: packaging in /usr/local/lib/python3.9/dist-packages (from JPype1>=0.7.0->konlpy) (23.1)\n"
          ]
        }
      ]
    },
    {
      "cell_type": "code",
      "source": [
        "#한글 깨짐을 방지하기 위함\n",
        "!apt-get update -qq\n",
        "!apt-get install fonts-nanum* -qq"
      ],
      "metadata": {
        "id": "Kr0wCzRCStRB"
      },
      "execution_count": null,
      "outputs": []
    },
    {
      "cell_type": "code",
      "source": [
        "#기본적인 라이브러리 임포트\n",
        "#Mecab가 형태소분석기에서 한국어는 제일 잘해주기는 하는데 설치가 개같아서 Okt를 사용\n",
        "import pandas as pd\n",
        "from konlpy.tag import Okt\n",
        "from collections import Counter\n",
        "from wordcloud import WordCloud\n",
        "import matplotlib.pyplot as plt\n"
      ],
      "metadata": {
        "id": "fkjoIzzTStRB"
      },
      "execution_count": null,
      "outputs": []
    },
    {
      "cell_type": "code",
      "source": [
        "#누군가의 깃헙에서 가져온 한국어 stop_words\n",
        "stop_words = \"아 휴 아이구 아이쿠 아이고 어 나 우리 저희 따라 의해 을 를 에 의 가 으로 로 에게 뿐이다 의거하여 근거하여 입각하여 기준으로 예하면 예를 들면 예를 들자면 저 소인 소생 저희 지말고 하지마 하지마라 다른 물론 또한 그리고 비길수 없다 해서는 안된다 뿐만 아니라 만이 아니다 만은 아니다 막론하고 관계없이 그치지 않다 그러나 그런데 하지만 든간에 논하지 않다 따지지 않다 설사 비록 더라도 아니면 만 못하다 하는 편이 낫다 불문하고 향하여 향해서 향하다 쪽으로 틈타 이용하여 타다 오르다 제외하고 이 외에 이 밖에 하여야 비로소 한다면 몰라도 외에도 이곳 여기 부터 기점으로 따라서 할 생각이다 하려고하다 이리하여 그리하여 그렇게 함으로써 하지만 일때 할때 앞에서 중에서 보는데서 으로써 로써 까지 해야한다 일것이다 반드시 할줄알다 할수있다 할수있어 임에 틀림없다 한다면 등 등등 제 겨우 단지 다만 할뿐 딩동 댕그 대해서 대하여 대하면 훨씬 얼마나 얼마만큼 얼마큼 남짓 여 얼마간 약간 다소 좀 조금 다수 몇 얼마 지만 하물며 또한 그러나 그렇지만 하지만 이외에도 대해 말하자면 뿐이다 다음에 반대로 반대로 말하자면 이와 반대로 바꾸어서 말하면 바꾸어서 한다면 만약 그렇지않으면 까악 툭 딱 삐걱거리다 보드득 비걱거리다 꽈당 응당 해야한다 에 가서 각 각각 여러분 각종 각자 제각기 하도록하다 와 과 그러므로 그래서 고로 한 까닭에 하기 때문에 거니와 이지만 대하여 관하여 관한 과연 실로 아니나다를가 생각한대로 진짜로 한적이있다 하곤하였다 하 하하 허허 아하 거바 와 오 왜 어째서 무엇때문에 어찌 하겠는가 무슨 어디 어느곳 더군다나 하물며 더욱이는 어느때 언제 야 이봐 어이 여보시오 흐흐 흥 휴 헉헉 헐떡헐떡 영차 여차 어기여차 끙끙 아야 앗 아야 콸콸 졸졸 좍좍 뚝뚝 주룩주룩 솨 우르르 그래도 또 그리고 바꾸어말하면 바꾸어말하자면 혹은 혹시 답다 및 그에 따르는 때가 되어 즉 지든지 설령 가령 하더라도 할지라도 일지라도 지든지 몇 거의 하마터면 인젠 이젠 된바에야 된이상 만큼 어찌됏든 그위에 게다가 점에서 보아 비추어 보아 고려하면 하게될것이다 일것이다 비교적 좀 보다더 비하면 시키다 하게하다 할만하다 의해서 연이서 이어서 잇따라 뒤따라 뒤이어 결국 의지하여 기대여 통하여 자마자 더욱더 불구하고 얼마든지 마음대로 주저하지 않고 곧 즉시 바로 당장 하자마자 밖에 안된다 하면된다 그래 그렇지 요컨대 다시 말하자면 바꿔 말하면 즉 구체적으로 말하자면 시작하여 시초에 이상 허 헉 허걱 바와같이 해도좋다 해도된다 게다가 더구나 하물며 와르르 팍 퍽 펄렁 동안 이래 하고있었다 이었다 에서 로부터 까지 예하면 했어요 해요 함께 같이 더불어 마저 마저도 양자 모두 습니다 가까스로 하려고하다 즈음하여 다른 다른 방면으로 해봐요 습니까 했어요 말할것도 없고 무릎쓰고 개의치않고 하는것만 못하다 하는것이 낫다 매 매번 들 모 어느것 어느 로써 갖고말하자면 어디 어느쪽 어느것 어느해 어느 년도 라 해도 언젠가 어떤것 어느것 저기 저쪽 저것 그때 그럼 그러면 요만한걸 그래 그때 저것만큼 그저 이르기까지 할 줄 안다 할 힘이 있다 너 너희 당신 어찌 설마 차라리 할지언정 할지라도 할망정 할지언정 구토하다 게우다 토하다 메쓰겁다 옆사람 퉤 쳇 의거하여 근거하여 의해 따라 힘입어 그 다음 버금 두번째로 기타 첫번째로 나머지는 그중에서 견지에서 형식으로 쓰여 입장에서 위해서 단지 의해되다 하도록시키다 뿐만아니라 반대로 전후 전자 앞의것 잠시 잠깐 하면서 그렇지만 다음에 그러한즉 그런즉 남들 아무거나 어찌하든지 같다 비슷하다 예컨대 이럴정도로 어떻게 만약 만일 위에서 서술한바와같이 인 듯하다 하지 않는다면 만약에 무엇 무슨 어느 어떤 아래윗 조차 한데 그럼에도 불구하고 여전히 심지어 까지도 조차도 하지 않도록 않기 위하여 때 시각 무렵 시간 동안 어때 어떠한 하여금 네 예 우선 누구 누가 알겠는가 아무도 줄은모른다 줄은 몰랏다 하는 김에 겸사겸사 하는바 그런 까닭에 한 이유는 그러니 그러니까 때문에 그 너희 그들 너희들 타인 것 것들 너 위하여 공동으로 동시에 하기 위하여 어찌하여 무엇때문에 붕붕 윙윙 나 우리 엉엉 휘익 윙윙 오호 아하 어쨋든 만 못하다 하기보다는 차라리 하는 편이 낫다 흐흐 놀라다 상대적으로 말하자면 마치 아니라면 쉿 그렇지 않으면 그렇지 않다면 안 그러면 아니었다면 하든지 아니면 이라면 좋아 알았어 하는것도 그만이다 어쩔수 없다 하나 일 일반적으로 일단 한켠으로는 오자마자 이렇게되면 이와같다면 전부 한마디 한항목 근거로 하기에 아울러 하지 않도록 않기 위해서 이르기까지 이 되다 로 인하여 까닭으로 이유만으로 이로 인하여 그래서 이 때문에 그러므로 그런 까닭에 알 수 있다 결론을 낼 수 있다 으로 인하여 있다 어떤것 관계가 있다 관련이 있다 연관되다 어떤것들 에 대해 이리하여 그리하여 여부 하기보다는 하느니 하면 할수록 운운 이러이러하다 하구나 하도다 다시말하면 다음으로 에 있다 에 달려 있다 우리 우리들 오히려 하기는한데 어떻게 어떻해 어찌됏어 어때 어째서 본대로 자 이 이쪽 여기 이것 이번 이렇게말하자면 이런 이러한 이와 같은 요만큼 요만한 것 얼마 안 되는 것 이만큼 이 정도의 이렇게 많은 것 이와 같다 이때 이렇구나 것과 같이 끼익 삐걱 따위 와 같은 사람들 부류의 사람들 왜냐하면 중의하나 오직 오로지 에 한하다 하기만 하면 도착하다 까지 미치다 도달하다 정도에 이르다 할 지경이다 결과에 이르다 관해서는 여러분 하고 있다 한 후 혼자 자기 자기집 자신 우에 종합한것과같이 총적으로 보면 총적으로 말하면 총적으로 대로 하다 으로서 참 그만이다 할 따름이다 쿵 탕탕 쾅쾅 둥둥 봐 봐라 아이야 아니 와아 응 아이 참나 년 월 일 령 영 일 이 삼 사 오 육 륙 칠 팔 구 이천육 이천칠 이천팔 이천구 하나 둘 셋 넷 다섯 여섯 일곱 여덟 아홉 령 영 이 있 하 것 들 그 되 수 이 보 않 없 나 사람 주 아니 등 같 우리 때 년 가 한 지 대하 오 말 일 그렇 위하 때문 그것 두 말하 알 그러나 받 못하 일 그런 또 문제 더 사회 많 그리고 좋 크 따르 중 나오 가지 씨 시키 만들 지금 생각하 그러 속 하나 집 살 모르 적 월 데 자신 안 어떤 내 내 경우 명 생각 시간 그녀 다시 이런 앞 보이 번 나 다른 어떻 여자 개 전 들 사실 이렇 점 싶 말 정도 좀 원 잘 통하 놓\"\n",
        "stop_words=stop_words.split(' ')\n"
      ],
      "metadata": {
        "id": "4RkZTS_PStRC"
      },
      "execution_count": null,
      "outputs": []
    },
    {
      "cell_type": "code",
      "source": [
        "import re\n",
        "def clean_html_tags(text):\n",
        "    # HTML 태그 제거\n",
        "    cleanr = re.compile('<.*?>')\n",
        "    cleantext = re.sub(cleanr, '', text)\n",
        "    return cleantext"
      ],
      "metadata": {
        "id": "0CSBbg99StRD"
      },
      "execution_count": null,
      "outputs": []
    },
    {
      "cell_type": "code",
      "source": [
        "def clean_special_chars(text):\n",
        "    # 특수문자 제거\n",
        "    text = re.sub('[^가-힣ㄱ-ㅎㅏ-ㅣa-zA-Z0-9\\\\s]', '', text)\n",
        "    return text"
      ],
      "metadata": {
        "id": "QfmZtnrXStRE"
      },
      "execution_count": null,
      "outputs": []
    },
    {
      "cell_type": "code",
      "source": [
        "def remove_stopwords(tokens):\n",
        "    # 불용어 제거\n",
        "    tokens = [word for word in tokens if word not in stop_words]\n",
        "    return tokens"
      ],
      "metadata": {
        "id": "2KKBNhqwStRE"
      },
      "execution_count": null,
      "outputs": []
    },
    {
      "cell_type": "code",
      "source": [
        "city_dict = {'강원':0, '경기':1,'경북':2,'경남':3,\n",
        "             '충북':4,'충남':5,'광주':6,'대구':7,\n",
        "             '대전':8,'부산':9,'서울':10,'세종':11,\n",
        "             '울산':12,'인천':13,'전북':14,'전남':15,\n",
        "             '제주':16}"
      ],
      "metadata": {
        "id": "PX6An8vIStRF"
      },
      "execution_count": null,
      "outputs": []
    },
    {
      "cell_type": "code",
      "source": [
        "city_dict = {v:k for k,v in city_dict.items()}\n",
        "city_dict\n"
      ],
      "metadata": {
        "colab": {
          "base_uri": "https://localhost:8080/"
        },
        "outputId": "93f636de-4559-47a3-a41d-b81cd43b959a",
        "id": "g5wpBitTStRG"
      },
      "execution_count": null,
      "outputs": [
        {
          "output_type": "execute_result",
          "data": {
            "text/plain": [
              "{0: '강원',\n",
              " 1: '경기',\n",
              " 2: '경북',\n",
              " 3: '경남',\n",
              " 4: '충북',\n",
              " 5: '충남',\n",
              " 6: '광주',\n",
              " 7: '대구',\n",
              " 8: '대전',\n",
              " 9: '부산',\n",
              " 10: '서울',\n",
              " 11: '세종',\n",
              " 12: '울산',\n",
              " 13: '인천',\n",
              " 14: '전북',\n",
              " 15: '전남',\n",
              " 16: '제주'}"
            ]
          },
          "metadata": {},
          "execution_count": 51
        }
      ]
    },
    {
      "cell_type": "code",
      "source": [],
      "metadata": {
        "id": "WC9M2wj9StRG"
      },
      "execution_count": null,
      "outputs": []
    },
    {
      "cell_type": "code",
      "source": [
        "\n",
        "\n",
        "loc_df_list = [GANGWON_2022,GYEONGI_2022,GYEONGBUK_2022, GYEONGNAM_2022,\n",
        "                      CHOONGBUK_2022,CHOONGNAM_2022,GWANGJU_2022,DAEGU_2022,\n",
        "                       DAEJEON_2022,PUSAN_2022,SEOUL_2022,SEJONG_2022,\n",
        "                       ULSAN_2022,INCHEON_2022,CHEONBUK_2022,CHEONNAM_2022,\n",
        "                       JEJU_2022]\n",
        "\n",
        "k=0\n",
        "for df_ in loc_df_list:\n",
        "\n",
        "  df_['content'] = df_['content'].apply(lambda x: clean_html_tags(x))\n",
        "  df_['content'] = df_['content'].apply(lambda x: clean_special_chars(x))\n",
        "  okt = Okt()\n",
        "  df_['content_pos'] = df_['content'].apply(okt.pos)\n",
        "  df_['content_nouns'] = df_['content_pos'].apply(lambda x: [word for (word, pos) in x if pos in ['Noun'] and word not in stop_words])\n",
        "  df_['content_nouns'] = df_['content_nouns'].apply(lambda x: remove_stopwords(x))\n",
        "  words = sum(df_['content_nouns'], [])\n",
        "  word_counter = Counter(words)\n",
        "  with open('Pos_dict.txt', 'r', encoding='utf-8') as f:\n",
        "    words = f.read().split()\n",
        "  from collections import defaultdict\n",
        "\n",
        "  # 각 단어가 데이터프레임의 'content' 열에 몇 번 등장하는지 세기\n",
        "  word_countss = defaultdict(int)\n",
        "  for word in words:\n",
        "    for content in df_['content_nouns']:\n",
        "      if word in content:\n",
        "          word_countss[word] += 1\n",
        "  df = pd.DataFrame.from_dict(word_countss, orient='index', columns=['count'])\n",
        "\n",
        "  with open('Neg_dict.txt', 'r', encoding='utf-8') as f:\n",
        "      words = f.read().split()\n",
        "\n",
        "  # 각 단어가 데이터프레임의 'content' 열에 몇 번 등장하는지 세기\n",
        "  word_countsss = defaultdict(int)\n",
        "  for word in words:\n",
        "    for content in df_['content_nouns']:\n",
        "      if word in content:\n",
        "          word_countsss[word] += 1\n",
        "  df_neg = pd.DataFrame.from_dict(word_countsss, orient='index', columns=['count'])\n",
        "\n",
        "\n",
        "  pos_words = df['count'].sum()\n",
        "  neg_words = df_neg['count'].sum()\n",
        "  location = city_dict.get(k)\n",
        "  print('{} 지역의 긍정단어 수는'.format(location),pos_words)\n",
        "  print('{} 지역의 부정단어 수는'.format(location),neg_words)\n",
        "  print('{} 지역의 부정단어 비율은'.format(location),neg_words/(pos_words+neg_words))\n",
        "\n",
        "  k+=1\n",
        "\n",
        "\n"
      ],
      "metadata": {
        "colab": {
          "base_uri": "https://localhost:8080/"
        },
        "outputId": "8ae974b9-800d-4574-f4d3-50f6cd8faea3",
        "id": "snKoxnMEStRH"
      },
      "execution_count": null,
      "outputs": [
        {
          "output_type": "stream",
          "name": "stdout",
          "text": [
            "강원 지역의 긍정단어 수는 9049\n",
            "강원 지역의 부정단어 수는 13156\n",
            "강원 지역의 부정단어 비율은 0.5924791713578023\n",
            "경기 지역의 긍정단어 수는 6583\n",
            "경기 지역의 부정단어 수는 8138\n",
            "경기 지역의 부정단어 비율은 0.5528157054547925\n",
            "경북 지역의 긍정단어 수는 4343\n",
            "경북 지역의 부정단어 수는 5774\n",
            "경북 지역의 부정단어 비율은 0.5707225462093506\n",
            "경남 지역의 긍정단어 수는 5403\n",
            "경남 지역의 부정단어 수는 6784\n",
            "경남 지역의 부정단어 비율은 0.5566587347173217\n",
            "충북 지역의 긍정단어 수는 3655\n",
            "충북 지역의 부정단어 수는 5198\n",
            "충북 지역의 부정단어 비율은 0.5871456003614594\n",
            "충남 지역의 긍정단어 수는 2684\n",
            "충남 지역의 부정단어 수는 3464\n",
            "충남 지역의 부정단어 비율은 0.5634352635003254\n",
            "광주 지역의 긍정단어 수는 3222\n",
            "광주 지역의 부정단어 수는 3880\n",
            "광주 지역의 부정단어 비율은 0.546324978879189\n",
            "대구 지역의 긍정단어 수는 5116\n",
            "대구 지역의 부정단어 수는 6246\n",
            "대구 지역의 부정단어 비율은 0.5497271607111424\n",
            "대전 지역의 긍정단어 수는 5128\n",
            "대전 지역의 부정단어 수는 7187\n",
            "대전 지역의 부정단어 비율은 0.5835972391392611\n",
            "부산 지역의 긍정단어 수는 9136\n",
            "부산 지역의 부정단어 수는 12698\n",
            "부산 지역의 부정단어 비율은 0.5815700283960795\n",
            "서울 지역의 긍정단어 수는 11888\n",
            "서울 지역의 부정단어 수는 15890\n",
            "서울 지역의 부정단어 비율은 0.5720354237166103\n",
            "세종 지역의 긍정단어 수는 6273\n",
            "세종 지역의 부정단어 수는 8745\n",
            "세종 지역의 부정단어 비율은 0.5823012385137835\n",
            "울산 지역의 긍정단어 수는 5419\n",
            "울산 지역의 부정단어 수는 7506\n",
            "울산 지역의 부정단어 비율은 0.5807350096711799\n",
            "인천 지역의 긍정단어 수는 4558\n",
            "인천 지역의 부정단어 수는 6714\n",
            "인천 지역의 부정단어 비율은 0.5956352022711142\n",
            "전북 지역의 긍정단어 수는 5236\n",
            "전북 지역의 부정단어 수는 6544\n",
            "전북 지역의 부정단어 비율은 0.5555178268251273\n",
            "전남 지역의 긍정단어 수는 4935\n",
            "전남 지역의 부정단어 수는 5934\n",
            "전남 지역의 부정단어 비율은 0.5459563897322661\n",
            "제주 지역의 긍정단어 수는 6913\n",
            "제주 지역의 부정단어 수는 8740\n",
            "제주 지역의 부정단어 비율은 0.5583594199195042\n"
          ]
        }
      ]
    },
    {
      "cell_type": "markdown",
      "source": [
        "# 2018"
      ],
      "metadata": {
        "id": "f5W1vOIoSwHe"
      }
    },
    {
      "cell_type": "code",
      "execution_count": null,
      "metadata": {
        "colab": {
          "base_uri": "https://localhost:8080/"
        },
        "outputId": "f8fcb564-65f5-4b9e-ea68-05da7baa3c0f",
        "id": "Zd6Xs3nCSwHf"
      },
      "outputs": [
        {
          "output_type": "stream",
          "name": "stdout",
          "text": [
            "Drive already mounted at /content/drive; to attempt to forcibly remount, call drive.mount(\"/content/drive\", force_remount=True).\n"
          ]
        }
      ],
      "source": [
        "import numpy as np\n",
        "import pandas as pd\n",
        "import os\n",
        "from google.colab import drive\n",
        "drive.mount('/content/drive')\n",
        "#이렇게 위치. GDRIVE란 딱 들어가면 -> 거기에 JongSul이라는 폴더를 생성 -> Jongsul 안에는 2022의 폴더가 현재 있는 셈. 각자 할당받은 연도의 폴더를 디렉토리로 설정을 하고 실행.\n",
        "os.chdir('/content/drive/MyDrive/JongSul/2018')"
      ]
    },
    {
      "cell_type": "code",
      "source": [
        "#데이터셋 임포트. 이 파트를 바꾸어 주어야 함... \n",
        "GANGWON_2022 = pd.read_csv('강원 출산_2018.csv',encoding='utf-8')\n",
        "GYEONGI_2022 = pd.read_csv('경기 출산_2018.csv',encoding='utf-8')\n",
        "GYEONGBUK_2022 = pd.read_csv('경북 출산_2018.csv',encoding='utf-8')\n",
        "GYEONGNAM_2022 = pd.read_csv('경남 출산_2018.csv',encoding='utf-8')\n",
        "CHOONGBUK_2022 = pd.read_csv('충북 출산_2018.csv',encoding='utf-8')\n",
        "CHOONGNAM_2022 = pd.read_csv('충남 출산_2018.csv',encoding='utf-8')\n",
        "GWANGJU_2022 = pd.read_csv('광주 출산_2018.csv',encoding='utf-8')\n",
        "DAEGU_2022 = pd.read_csv('대구 출산_2018.csv',encoding='utf-8')\n",
        "DAEJEON_2022 = pd.read_csv('대전 출산_2018.csv',encoding='utf-8')\n",
        "PUSAN_2022 = pd.read_csv('부산 출산_2018.csv',encoding='utf-8')\n",
        "SEOUL_2022 = pd.read_csv('서울 출산_2018.csv',encoding='utf-8')\n",
        "SEJONG_2022 = pd.read_csv('세종 출산_2018.csv',encoding='utf-8')\n",
        "ULSAN_2022 = pd.read_csv('울산 출산_2018.csv',encoding='utf-8')\n",
        "INCHEON_2022 = pd.read_csv('인천 출산_2018.csv',encoding='utf-8')\n",
        "CHEONBUK_2022 = pd.read_csv('전북 출산_2018.csv',encoding='utf-8')\n",
        "CHEONNAM_2022 = pd.read_csv('전남 출산_2018.csv',encoding='utf-8')\n",
        "JEJU_2022 = pd.read_csv('제주 출산_2018.csv',encoding='utf-8')\n",
        "\n",
        "\n",
        "\n",
        "\n"
      ],
      "metadata": {
        "id": "gNOEHW4ISwHg"
      },
      "execution_count": null,
      "outputs": []
    },
    {
      "cell_type": "code",
      "source": [
        "#필요한 라이브러리 설치\n",
        "!pip install nltk\n",
        "!pip install konlpy"
      ],
      "metadata": {
        "colab": {
          "base_uri": "https://localhost:8080/"
        },
        "outputId": "289f6122-82ad-436d-ff5d-fc3803059259",
        "id": "6fgbRghNSwHh"
      },
      "execution_count": null,
      "outputs": [
        {
          "output_type": "stream",
          "name": "stdout",
          "text": [
            "Looking in indexes: https://pypi.org/simple, https://us-python.pkg.dev/colab-wheels/public/simple/\n",
            "Requirement already satisfied: nltk in /usr/local/lib/python3.9/dist-packages (3.8.1)\n",
            "Requirement already satisfied: joblib in /usr/local/lib/python3.9/dist-packages (from nltk) (1.2.0)\n",
            "Requirement already satisfied: click in /usr/local/lib/python3.9/dist-packages (from nltk) (8.1.3)\n",
            "Requirement already satisfied: regex>=2021.8.3 in /usr/local/lib/python3.9/dist-packages (from nltk) (2022.10.31)\n",
            "Requirement already satisfied: tqdm in /usr/local/lib/python3.9/dist-packages (from nltk) (4.65.0)\n",
            "Looking in indexes: https://pypi.org/simple, https://us-python.pkg.dev/colab-wheels/public/simple/\n",
            "Requirement already satisfied: konlpy in /usr/local/lib/python3.9/dist-packages (0.6.0)\n",
            "Requirement already satisfied: lxml>=4.1.0 in /usr/local/lib/python3.9/dist-packages (from konlpy) (4.9.2)\n",
            "Requirement already satisfied: numpy>=1.6 in /usr/local/lib/python3.9/dist-packages (from konlpy) (1.22.4)\n",
            "Requirement already satisfied: JPype1>=0.7.0 in /usr/local/lib/python3.9/dist-packages (from konlpy) (1.4.1)\n",
            "Requirement already satisfied: packaging in /usr/local/lib/python3.9/dist-packages (from JPype1>=0.7.0->konlpy) (23.1)\n"
          ]
        }
      ]
    },
    {
      "cell_type": "code",
      "source": [
        "#한글 깨짐을 방지하기 위함\n",
        "!apt-get update -qq\n",
        "!apt-get install fonts-nanum* -qq"
      ],
      "metadata": {
        "id": "Xy4_SeG6SwHi"
      },
      "execution_count": null,
      "outputs": []
    },
    {
      "cell_type": "code",
      "source": [
        "#기본적인 라이브러리 임포트\n",
        "#Mecab가 형태소분석기에서 한국어는 제일 잘해주기는 하는데 설치가 개같아서 Okt를 사용\n",
        "import pandas as pd\n",
        "from konlpy.tag import Okt\n",
        "from collections import Counter\n",
        "from wordcloud import WordCloud\n",
        "import matplotlib.pyplot as plt\n"
      ],
      "metadata": {
        "id": "00nsQUAoSwHi"
      },
      "execution_count": null,
      "outputs": []
    },
    {
      "cell_type": "code",
      "source": [
        "#누군가의 깃헙에서 가져온 한국어 stop_words\n",
        "stop_words = \"아 휴 아이구 아이쿠 아이고 어 나 우리 저희 따라 의해 을 를 에 의 가 으로 로 에게 뿐이다 의거하여 근거하여 입각하여 기준으로 예하면 예를 들면 예를 들자면 저 소인 소생 저희 지말고 하지마 하지마라 다른 물론 또한 그리고 비길수 없다 해서는 안된다 뿐만 아니라 만이 아니다 만은 아니다 막론하고 관계없이 그치지 않다 그러나 그런데 하지만 든간에 논하지 않다 따지지 않다 설사 비록 더라도 아니면 만 못하다 하는 편이 낫다 불문하고 향하여 향해서 향하다 쪽으로 틈타 이용하여 타다 오르다 제외하고 이 외에 이 밖에 하여야 비로소 한다면 몰라도 외에도 이곳 여기 부터 기점으로 따라서 할 생각이다 하려고하다 이리하여 그리하여 그렇게 함으로써 하지만 일때 할때 앞에서 중에서 보는데서 으로써 로써 까지 해야한다 일것이다 반드시 할줄알다 할수있다 할수있어 임에 틀림없다 한다면 등 등등 제 겨우 단지 다만 할뿐 딩동 댕그 대해서 대하여 대하면 훨씬 얼마나 얼마만큼 얼마큼 남짓 여 얼마간 약간 다소 좀 조금 다수 몇 얼마 지만 하물며 또한 그러나 그렇지만 하지만 이외에도 대해 말하자면 뿐이다 다음에 반대로 반대로 말하자면 이와 반대로 바꾸어서 말하면 바꾸어서 한다면 만약 그렇지않으면 까악 툭 딱 삐걱거리다 보드득 비걱거리다 꽈당 응당 해야한다 에 가서 각 각각 여러분 각종 각자 제각기 하도록하다 와 과 그러므로 그래서 고로 한 까닭에 하기 때문에 거니와 이지만 대하여 관하여 관한 과연 실로 아니나다를가 생각한대로 진짜로 한적이있다 하곤하였다 하 하하 허허 아하 거바 와 오 왜 어째서 무엇때문에 어찌 하겠는가 무슨 어디 어느곳 더군다나 하물며 더욱이는 어느때 언제 야 이봐 어이 여보시오 흐흐 흥 휴 헉헉 헐떡헐떡 영차 여차 어기여차 끙끙 아야 앗 아야 콸콸 졸졸 좍좍 뚝뚝 주룩주룩 솨 우르르 그래도 또 그리고 바꾸어말하면 바꾸어말하자면 혹은 혹시 답다 및 그에 따르는 때가 되어 즉 지든지 설령 가령 하더라도 할지라도 일지라도 지든지 몇 거의 하마터면 인젠 이젠 된바에야 된이상 만큼 어찌됏든 그위에 게다가 점에서 보아 비추어 보아 고려하면 하게될것이다 일것이다 비교적 좀 보다더 비하면 시키다 하게하다 할만하다 의해서 연이서 이어서 잇따라 뒤따라 뒤이어 결국 의지하여 기대여 통하여 자마자 더욱더 불구하고 얼마든지 마음대로 주저하지 않고 곧 즉시 바로 당장 하자마자 밖에 안된다 하면된다 그래 그렇지 요컨대 다시 말하자면 바꿔 말하면 즉 구체적으로 말하자면 시작하여 시초에 이상 허 헉 허걱 바와같이 해도좋다 해도된다 게다가 더구나 하물며 와르르 팍 퍽 펄렁 동안 이래 하고있었다 이었다 에서 로부터 까지 예하면 했어요 해요 함께 같이 더불어 마저 마저도 양자 모두 습니다 가까스로 하려고하다 즈음하여 다른 다른 방면으로 해봐요 습니까 했어요 말할것도 없고 무릎쓰고 개의치않고 하는것만 못하다 하는것이 낫다 매 매번 들 모 어느것 어느 로써 갖고말하자면 어디 어느쪽 어느것 어느해 어느 년도 라 해도 언젠가 어떤것 어느것 저기 저쪽 저것 그때 그럼 그러면 요만한걸 그래 그때 저것만큼 그저 이르기까지 할 줄 안다 할 힘이 있다 너 너희 당신 어찌 설마 차라리 할지언정 할지라도 할망정 할지언정 구토하다 게우다 토하다 메쓰겁다 옆사람 퉤 쳇 의거하여 근거하여 의해 따라 힘입어 그 다음 버금 두번째로 기타 첫번째로 나머지는 그중에서 견지에서 형식으로 쓰여 입장에서 위해서 단지 의해되다 하도록시키다 뿐만아니라 반대로 전후 전자 앞의것 잠시 잠깐 하면서 그렇지만 다음에 그러한즉 그런즉 남들 아무거나 어찌하든지 같다 비슷하다 예컨대 이럴정도로 어떻게 만약 만일 위에서 서술한바와같이 인 듯하다 하지 않는다면 만약에 무엇 무슨 어느 어떤 아래윗 조차 한데 그럼에도 불구하고 여전히 심지어 까지도 조차도 하지 않도록 않기 위하여 때 시각 무렵 시간 동안 어때 어떠한 하여금 네 예 우선 누구 누가 알겠는가 아무도 줄은모른다 줄은 몰랏다 하는 김에 겸사겸사 하는바 그런 까닭에 한 이유는 그러니 그러니까 때문에 그 너희 그들 너희들 타인 것 것들 너 위하여 공동으로 동시에 하기 위하여 어찌하여 무엇때문에 붕붕 윙윙 나 우리 엉엉 휘익 윙윙 오호 아하 어쨋든 만 못하다 하기보다는 차라리 하는 편이 낫다 흐흐 놀라다 상대적으로 말하자면 마치 아니라면 쉿 그렇지 않으면 그렇지 않다면 안 그러면 아니었다면 하든지 아니면 이라면 좋아 알았어 하는것도 그만이다 어쩔수 없다 하나 일 일반적으로 일단 한켠으로는 오자마자 이렇게되면 이와같다면 전부 한마디 한항목 근거로 하기에 아울러 하지 않도록 않기 위해서 이르기까지 이 되다 로 인하여 까닭으로 이유만으로 이로 인하여 그래서 이 때문에 그러므로 그런 까닭에 알 수 있다 결론을 낼 수 있다 으로 인하여 있다 어떤것 관계가 있다 관련이 있다 연관되다 어떤것들 에 대해 이리하여 그리하여 여부 하기보다는 하느니 하면 할수록 운운 이러이러하다 하구나 하도다 다시말하면 다음으로 에 있다 에 달려 있다 우리 우리들 오히려 하기는한데 어떻게 어떻해 어찌됏어 어때 어째서 본대로 자 이 이쪽 여기 이것 이번 이렇게말하자면 이런 이러한 이와 같은 요만큼 요만한 것 얼마 안 되는 것 이만큼 이 정도의 이렇게 많은 것 이와 같다 이때 이렇구나 것과 같이 끼익 삐걱 따위 와 같은 사람들 부류의 사람들 왜냐하면 중의하나 오직 오로지 에 한하다 하기만 하면 도착하다 까지 미치다 도달하다 정도에 이르다 할 지경이다 결과에 이르다 관해서는 여러분 하고 있다 한 후 혼자 자기 자기집 자신 우에 종합한것과같이 총적으로 보면 총적으로 말하면 총적으로 대로 하다 으로서 참 그만이다 할 따름이다 쿵 탕탕 쾅쾅 둥둥 봐 봐라 아이야 아니 와아 응 아이 참나 년 월 일 령 영 일 이 삼 사 오 육 륙 칠 팔 구 이천육 이천칠 이천팔 이천구 하나 둘 셋 넷 다섯 여섯 일곱 여덟 아홉 령 영 이 있 하 것 들 그 되 수 이 보 않 없 나 사람 주 아니 등 같 우리 때 년 가 한 지 대하 오 말 일 그렇 위하 때문 그것 두 말하 알 그러나 받 못하 일 그런 또 문제 더 사회 많 그리고 좋 크 따르 중 나오 가지 씨 시키 만들 지금 생각하 그러 속 하나 집 살 모르 적 월 데 자신 안 어떤 내 내 경우 명 생각 시간 그녀 다시 이런 앞 보이 번 나 다른 어떻 여자 개 전 들 사실 이렇 점 싶 말 정도 좀 원 잘 통하 놓\"\n",
        "stop_words=stop_words.split(' ')\n"
      ],
      "metadata": {
        "id": "NN85uLKXSwHj"
      },
      "execution_count": null,
      "outputs": []
    },
    {
      "cell_type": "code",
      "source": [
        "import re\n",
        "def clean_html_tags(text):\n",
        "    # HTML 태그 제거\n",
        "    cleanr = re.compile('<.*?>')\n",
        "    cleantext = re.sub(cleanr, '', text)\n",
        "    return cleantext"
      ],
      "metadata": {
        "id": "wFF13U0MSwHk"
      },
      "execution_count": null,
      "outputs": []
    },
    {
      "cell_type": "code",
      "source": [
        "def clean_special_chars(text):\n",
        "    # 특수문자 제거\n",
        "    text = re.sub('[^가-힣ㄱ-ㅎㅏ-ㅣa-zA-Z0-9\\\\s]', '', text)\n",
        "    return text"
      ],
      "metadata": {
        "id": "tenVHJSSSwHk"
      },
      "execution_count": null,
      "outputs": []
    },
    {
      "cell_type": "code",
      "source": [
        "def remove_stopwords(tokens):\n",
        "    # 불용어 제거\n",
        "    tokens = [word for word in tokens if word not in stop_words]\n",
        "    return tokens"
      ],
      "metadata": {
        "id": "0l5apGbqSwHl"
      },
      "execution_count": null,
      "outputs": []
    },
    {
      "cell_type": "code",
      "source": [
        "city_dict = {'강원':0, '경기':1,'경북':2,'경남':3,\n",
        "             '충북':4,'충남':5,'광주':6,'대구':7,\n",
        "             '대전':8,'부산':9,'서울':10,'세종':11,\n",
        "             '울산':12,'인천':13,'전북':14,'전남':15,\n",
        "             '제주':16}"
      ],
      "metadata": {
        "id": "487VQeqsSwHl"
      },
      "execution_count": null,
      "outputs": []
    },
    {
      "cell_type": "code",
      "source": [
        "city_dict = {v:k for k,v in city_dict.items()}\n",
        "city_dict\n"
      ],
      "metadata": {
        "colab": {
          "base_uri": "https://localhost:8080/"
        },
        "outputId": "d5c62bc4-02b3-4960-c806-16a282ed9041",
        "id": "i5NeHYngSwHm"
      },
      "execution_count": null,
      "outputs": [
        {
          "output_type": "execute_result",
          "data": {
            "text/plain": [
              "{0: '강원',\n",
              " 1: '경기',\n",
              " 2: '경북',\n",
              " 3: '경남',\n",
              " 4: '충북',\n",
              " 5: '충남',\n",
              " 6: '광주',\n",
              " 7: '대구',\n",
              " 8: '대전',\n",
              " 9: '부산',\n",
              " 10: '서울',\n",
              " 11: '세종',\n",
              " 12: '울산',\n",
              " 13: '인천',\n",
              " 14: '전북',\n",
              " 15: '전남',\n",
              " 16: '제주'}"
            ]
          },
          "metadata": {},
          "execution_count": 63
        }
      ]
    },
    {
      "cell_type": "code",
      "source": [],
      "metadata": {
        "id": "VFFGFgE6SwHm"
      },
      "execution_count": null,
      "outputs": []
    },
    {
      "cell_type": "code",
      "source": [
        "\n",
        "\n",
        "loc_df_list = [GANGWON_2022,GYEONGI_2022,GYEONGBUK_2022, GYEONGNAM_2022,\n",
        "                      CHOONGBUK_2022,CHOONGNAM_2022,GWANGJU_2022,DAEGU_2022,\n",
        "                       DAEJEON_2022,PUSAN_2022,SEOUL_2022,SEJONG_2022,\n",
        "                       ULSAN_2022,INCHEON_2022,CHEONBUK_2022,CHEONNAM_2022,\n",
        "                       JEJU_2022]\n",
        "\n",
        "k=0\n",
        "for df_ in loc_df_list:\n",
        "\n",
        "  df_['content'] = df_['content'].apply(lambda x: clean_html_tags(x))\n",
        "  df_['content'] = df_['content'].apply(lambda x: clean_special_chars(x))\n",
        "  okt = Okt()\n",
        "  df_['content_pos'] = df_['content'].apply(okt.pos)\n",
        "  df_['content_nouns'] = df_['content_pos'].apply(lambda x: [word for (word, pos) in x if pos in ['Noun'] and word not in stop_words])\n",
        "  df_['content_nouns'] = df_['content_nouns'].apply(lambda x: remove_stopwords(x))\n",
        "  words = sum(df_['content_nouns'], [])\n",
        "  word_counter = Counter(words)\n",
        "  with open('Pos_dict.txt', 'r', encoding='utf-8') as f:\n",
        "    words = f.read().split()\n",
        "  from collections import defaultdict\n",
        "\n",
        "  # 각 단어가 데이터프레임의 'content' 열에 몇 번 등장하는지 세기\n",
        "  word_countss = defaultdict(int)\n",
        "  for word in words:\n",
        "    for content in df_['content_nouns']:\n",
        "      if word in content:\n",
        "          word_countss[word] += 1\n",
        "  df = pd.DataFrame.from_dict(word_countss, orient='index', columns=['count'])\n",
        "\n",
        "  with open('Neg_dict.txt', 'r', encoding='utf-8') as f:\n",
        "      words = f.read().split()\n",
        "\n",
        "  # 각 단어가 데이터프레임의 'content' 열에 몇 번 등장하는지 세기\n",
        "  word_countsss = defaultdict(int)\n",
        "  for word in words:\n",
        "    for content in df_['content_nouns']:\n",
        "      if word in content:\n",
        "          word_countsss[word] += 1\n",
        "  df_neg = pd.DataFrame.from_dict(word_countsss, orient='index', columns=['count'])\n",
        "\n",
        "\n",
        "  pos_words = df['count'].sum()\n",
        "  neg_words = df_neg['count'].sum()\n",
        "  location = city_dict.get(k)\n",
        "  print('{} 지역의 긍정단어 수는'.format(location),pos_words)\n",
        "  print('{} 지역의 부정단어 수는'.format(location),neg_words)\n",
        "  print('{} 지역의 부정단어 비율은'.format(location),neg_words/(pos_words+neg_words))\n",
        "\n",
        "  k+=1\n",
        "\n",
        "\n"
      ],
      "metadata": {
        "colab": {
          "base_uri": "https://localhost:8080/"
        },
        "outputId": "a2326e66-55ce-4fed-bef3-1dfb646d3ef3",
        "id": "Nte_lUM5SwHn"
      },
      "execution_count": null,
      "outputs": [
        {
          "output_type": "stream",
          "name": "stdout",
          "text": [
            "강원 지역의 긍정단어 수는 13954\n",
            "강원 지역의 부정단어 수는 20165\n",
            "강원 지역의 부정단어 비율은 0.5910196664615024\n",
            "경기 지역의 긍정단어 수는 7683\n",
            "경기 지역의 부정단어 수는 9886\n",
            "경기 지역의 부정단어 비율은 0.5626956571233422\n",
            "경북 지역의 긍정단어 수는 4288\n",
            "경북 지역의 부정단어 수는 4847\n",
            "경북 지역의 부정단어 비율은 0.5305966064586755\n",
            "경남 지역의 긍정단어 수는 6847\n",
            "경남 지역의 부정단어 수는 9077\n",
            "경남 지역의 부정단어 비율은 0.5700200954534037\n",
            "충북 지역의 긍정단어 수는 5053\n",
            "충북 지역의 부정단어 수는 6624\n",
            "충북 지역의 부정단어 비율은 0.5672689903228569\n",
            "충남 지역의 긍정단어 수는 3870\n",
            "충남 지역의 부정단어 수는 4836\n",
            "충남 지역의 부정단어 비율은 0.5554789800137836\n",
            "광주 지역의 긍정단어 수는 7283\n",
            "광주 지역의 부정단어 수는 10991\n",
            "광주 지역의 부정단어 비율은 0.6014556200065667\n",
            "대구 지역의 긍정단어 수는 5586\n",
            "대구 지역의 부정단어 수는 6929\n",
            "대구 지역의 부정단어 비율은 0.5536556132640831\n",
            "대전 지역의 긍정단어 수는 8002\n",
            "대전 지역의 부정단어 수는 10906\n",
            "대전 지역의 부정단어 비율은 0.5767928918976095\n",
            "부산 지역의 긍정단어 수는 7915\n",
            "부산 지역의 부정단어 수는 9773\n",
            "부산 지역의 부정단어 비율은 0.5525214834916328\n",
            "서울 지역의 긍정단어 수는 10606\n",
            "서울 지역의 부정단어 수는 14633\n",
            "서울 지역의 부정단어 비율은 0.5797773287372717\n",
            "세종 지역의 긍정단어 수는 9772\n",
            "세종 지역의 부정단어 수는 14009\n",
            "세종 지역의 부정단어 비율은 0.5890837222993146\n",
            "울산 지역의 긍정단어 수는 7244\n",
            "울산 지역의 부정단어 수는 9585\n",
            "울산 지역의 부정단어 비율은 0.5695525580842593\n",
            "인천 지역의 긍정단어 수는 5759\n",
            "인천 지역의 부정단어 수는 7126\n",
            "인천 지역의 부정단어 비율은 0.553046177726038\n",
            "전북 지역의 긍정단어 수는 8778\n",
            "전북 지역의 부정단어 수는 12164\n",
            "전북 지역의 부정단어 비율은 0.5808423264253653\n",
            "전남 지역의 긍정단어 수는 4967\n",
            "전남 지역의 부정단어 수는 5569\n",
            "전남 지역의 부정단어 비율은 0.5285687167805618\n",
            "제주 지역의 긍정단어 수는 9496\n",
            "제주 지역의 부정단어 수는 14445\n",
            "제주 지역의 부정단어 비율은 0.6033582557119586\n"
          ]
        }
      ]
    },
    {
      "cell_type": "markdown",
      "source": [
        "# 2017"
      ],
      "metadata": {
        "id": "MWDGBXktSyLm"
      }
    },
    {
      "cell_type": "code",
      "execution_count": null,
      "metadata": {
        "colab": {
          "base_uri": "https://localhost:8080/"
        },
        "outputId": "2946993c-184d-4a06-ba29-ae80b1f8b2eb",
        "id": "uwhi9AHlSyLn"
      },
      "outputs": [
        {
          "output_type": "stream",
          "name": "stdout",
          "text": [
            "Drive already mounted at /content/drive; to attempt to forcibly remount, call drive.mount(\"/content/drive\", force_remount=True).\n"
          ]
        }
      ],
      "source": [
        "import numpy as np\n",
        "import pandas as pd\n",
        "import os\n",
        "from google.colab import drive\n",
        "drive.mount('/content/drive')\n",
        "#이렇게 위치. GDRIVE란 딱 들어가면 -> 거기에 JongSul이라는 폴더를 생성 -> Jongsul 안에는 2022의 폴더가 현재 있는 셈. 각자 할당받은 연도의 폴더를 디렉토리로 설정을 하고 실행.\n",
        "os.chdir('/content/drive/MyDrive/JongSul/2017')"
      ]
    },
    {
      "cell_type": "code",
      "source": [
        "#데이터셋 임포트. 이 파트를 바꾸어 주어야 함... \n",
        "GANGWON_2022 = pd.read_csv('강원 출산_2017.csv',encoding='utf-8')\n",
        "GYEONGI_2022 = pd.read_csv('경기 출산_2017.csv',encoding='utf-8')\n",
        "GYEONGBUK_2022 = pd.read_csv('경북 출산_2017.csv',encoding='utf-8')\n",
        "GYEONGNAM_2022 = pd.read_csv('경남 출산_2017.csv',encoding='utf-8')\n",
        "CHOONGBUK_2022 = pd.read_csv('충북 출산_2017.csv',encoding='utf-8')\n",
        "CHOONGNAM_2022 = pd.read_csv('충남 출산_2017.csv',encoding='utf-8')\n",
        "GWANGJU_2022 = pd.read_csv('광주 출산_2017.csv',encoding='utf-8')\n",
        "DAEGU_2022 = pd.read_csv('대구 출산_2017.csv',encoding='utf-8')\n",
        "DAEJEON_2022 = pd.read_csv('대전 출산_2017.csv',encoding='utf-8')\n",
        "PUSAN_2022 = pd.read_csv('부산 출산_2017.csv',encoding='utf-8')\n",
        "SEOUL_2022 = pd.read_csv('서울 출산_2017.csv',encoding='utf-8')\n",
        "SEJONG_2022 = pd.read_csv('세종 출산_2017.csv',encoding='utf-8')\n",
        "ULSAN_2022 = pd.read_csv('울산 출산_2017.csv',encoding='utf-8')\n",
        "INCHEON_2022 = pd.read_csv('인천 출산_2017.csv',encoding='utf-8')\n",
        "CHEONBUK_2022 = pd.read_csv('전북 출산_2017.csv',encoding='utf-8')\n",
        "CHEONNAM_2022 = pd.read_csv('전남 출산_2017.csv',encoding='utf-8')\n",
        "JEJU_2022 = pd.read_csv('제주 출산_2017.csv',encoding='utf-8')\n",
        "\n",
        "\n",
        "\n",
        "\n"
      ],
      "metadata": {
        "id": "Nu15VFpCSyLo"
      },
      "execution_count": null,
      "outputs": []
    },
    {
      "cell_type": "code",
      "source": [
        "#필요한 라이브러리 설치\n",
        "!pip install nltk\n",
        "!pip install konlpy"
      ],
      "metadata": {
        "colab": {
          "base_uri": "https://localhost:8080/"
        },
        "outputId": "d27c6ecb-367f-401e-da97-3ef2d78f190e",
        "id": "tOLZReWNSyLp"
      },
      "execution_count": null,
      "outputs": [
        {
          "output_type": "stream",
          "name": "stdout",
          "text": [
            "Looking in indexes: https://pypi.org/simple, https://us-python.pkg.dev/colab-wheels/public/simple/\n",
            "Requirement already satisfied: nltk in /usr/local/lib/python3.9/dist-packages (3.8.1)\n",
            "Requirement already satisfied: regex>=2021.8.3 in /usr/local/lib/python3.9/dist-packages (from nltk) (2022.10.31)\n",
            "Requirement already satisfied: click in /usr/local/lib/python3.9/dist-packages (from nltk) (8.1.3)\n",
            "Requirement already satisfied: tqdm in /usr/local/lib/python3.9/dist-packages (from nltk) (4.65.0)\n",
            "Requirement already satisfied: joblib in /usr/local/lib/python3.9/dist-packages (from nltk) (1.2.0)\n",
            "Looking in indexes: https://pypi.org/simple, https://us-python.pkg.dev/colab-wheels/public/simple/\n",
            "Requirement already satisfied: konlpy in /usr/local/lib/python3.9/dist-packages (0.6.0)\n",
            "Requirement already satisfied: numpy>=1.6 in /usr/local/lib/python3.9/dist-packages (from konlpy) (1.22.4)\n",
            "Requirement already satisfied: JPype1>=0.7.0 in /usr/local/lib/python3.9/dist-packages (from konlpy) (1.4.1)\n",
            "Requirement already satisfied: lxml>=4.1.0 in /usr/local/lib/python3.9/dist-packages (from konlpy) (4.9.2)\n",
            "Requirement already satisfied: packaging in /usr/local/lib/python3.9/dist-packages (from JPype1>=0.7.0->konlpy) (23.1)\n"
          ]
        }
      ]
    },
    {
      "cell_type": "code",
      "source": [
        "#한글 깨짐을 방지하기 위함\n",
        "!apt-get update -qq\n",
        "!apt-get install fonts-nanum* -qq"
      ],
      "metadata": {
        "id": "a4-feorvSyLq"
      },
      "execution_count": null,
      "outputs": []
    },
    {
      "cell_type": "code",
      "source": [
        "#기본적인 라이브러리 임포트\n",
        "#Mecab가 형태소분석기에서 한국어는 제일 잘해주기는 하는데 설치가 개같아서 Okt를 사용\n",
        "import pandas as pd\n",
        "from konlpy.tag import Okt\n",
        "from collections import Counter\n",
        "from wordcloud import WordCloud\n",
        "import matplotlib.pyplot as plt\n"
      ],
      "metadata": {
        "id": "E-wy8z1ESyLq"
      },
      "execution_count": null,
      "outputs": []
    },
    {
      "cell_type": "code",
      "source": [
        "#누군가의 깃헙에서 가져온 한국어 stop_words\n",
        "stop_words = \"아 휴 아이구 아이쿠 아이고 어 나 우리 저희 따라 의해 을 를 에 의 가 으로 로 에게 뿐이다 의거하여 근거하여 입각하여 기준으로 예하면 예를 들면 예를 들자면 저 소인 소생 저희 지말고 하지마 하지마라 다른 물론 또한 그리고 비길수 없다 해서는 안된다 뿐만 아니라 만이 아니다 만은 아니다 막론하고 관계없이 그치지 않다 그러나 그런데 하지만 든간에 논하지 않다 따지지 않다 설사 비록 더라도 아니면 만 못하다 하는 편이 낫다 불문하고 향하여 향해서 향하다 쪽으로 틈타 이용하여 타다 오르다 제외하고 이 외에 이 밖에 하여야 비로소 한다면 몰라도 외에도 이곳 여기 부터 기점으로 따라서 할 생각이다 하려고하다 이리하여 그리하여 그렇게 함으로써 하지만 일때 할때 앞에서 중에서 보는데서 으로써 로써 까지 해야한다 일것이다 반드시 할줄알다 할수있다 할수있어 임에 틀림없다 한다면 등 등등 제 겨우 단지 다만 할뿐 딩동 댕그 대해서 대하여 대하면 훨씬 얼마나 얼마만큼 얼마큼 남짓 여 얼마간 약간 다소 좀 조금 다수 몇 얼마 지만 하물며 또한 그러나 그렇지만 하지만 이외에도 대해 말하자면 뿐이다 다음에 반대로 반대로 말하자면 이와 반대로 바꾸어서 말하면 바꾸어서 한다면 만약 그렇지않으면 까악 툭 딱 삐걱거리다 보드득 비걱거리다 꽈당 응당 해야한다 에 가서 각 각각 여러분 각종 각자 제각기 하도록하다 와 과 그러므로 그래서 고로 한 까닭에 하기 때문에 거니와 이지만 대하여 관하여 관한 과연 실로 아니나다를가 생각한대로 진짜로 한적이있다 하곤하였다 하 하하 허허 아하 거바 와 오 왜 어째서 무엇때문에 어찌 하겠는가 무슨 어디 어느곳 더군다나 하물며 더욱이는 어느때 언제 야 이봐 어이 여보시오 흐흐 흥 휴 헉헉 헐떡헐떡 영차 여차 어기여차 끙끙 아야 앗 아야 콸콸 졸졸 좍좍 뚝뚝 주룩주룩 솨 우르르 그래도 또 그리고 바꾸어말하면 바꾸어말하자면 혹은 혹시 답다 및 그에 따르는 때가 되어 즉 지든지 설령 가령 하더라도 할지라도 일지라도 지든지 몇 거의 하마터면 인젠 이젠 된바에야 된이상 만큼 어찌됏든 그위에 게다가 점에서 보아 비추어 보아 고려하면 하게될것이다 일것이다 비교적 좀 보다더 비하면 시키다 하게하다 할만하다 의해서 연이서 이어서 잇따라 뒤따라 뒤이어 결국 의지하여 기대여 통하여 자마자 더욱더 불구하고 얼마든지 마음대로 주저하지 않고 곧 즉시 바로 당장 하자마자 밖에 안된다 하면된다 그래 그렇지 요컨대 다시 말하자면 바꿔 말하면 즉 구체적으로 말하자면 시작하여 시초에 이상 허 헉 허걱 바와같이 해도좋다 해도된다 게다가 더구나 하물며 와르르 팍 퍽 펄렁 동안 이래 하고있었다 이었다 에서 로부터 까지 예하면 했어요 해요 함께 같이 더불어 마저 마저도 양자 모두 습니다 가까스로 하려고하다 즈음하여 다른 다른 방면으로 해봐요 습니까 했어요 말할것도 없고 무릎쓰고 개의치않고 하는것만 못하다 하는것이 낫다 매 매번 들 모 어느것 어느 로써 갖고말하자면 어디 어느쪽 어느것 어느해 어느 년도 라 해도 언젠가 어떤것 어느것 저기 저쪽 저것 그때 그럼 그러면 요만한걸 그래 그때 저것만큼 그저 이르기까지 할 줄 안다 할 힘이 있다 너 너희 당신 어찌 설마 차라리 할지언정 할지라도 할망정 할지언정 구토하다 게우다 토하다 메쓰겁다 옆사람 퉤 쳇 의거하여 근거하여 의해 따라 힘입어 그 다음 버금 두번째로 기타 첫번째로 나머지는 그중에서 견지에서 형식으로 쓰여 입장에서 위해서 단지 의해되다 하도록시키다 뿐만아니라 반대로 전후 전자 앞의것 잠시 잠깐 하면서 그렇지만 다음에 그러한즉 그런즉 남들 아무거나 어찌하든지 같다 비슷하다 예컨대 이럴정도로 어떻게 만약 만일 위에서 서술한바와같이 인 듯하다 하지 않는다면 만약에 무엇 무슨 어느 어떤 아래윗 조차 한데 그럼에도 불구하고 여전히 심지어 까지도 조차도 하지 않도록 않기 위하여 때 시각 무렵 시간 동안 어때 어떠한 하여금 네 예 우선 누구 누가 알겠는가 아무도 줄은모른다 줄은 몰랏다 하는 김에 겸사겸사 하는바 그런 까닭에 한 이유는 그러니 그러니까 때문에 그 너희 그들 너희들 타인 것 것들 너 위하여 공동으로 동시에 하기 위하여 어찌하여 무엇때문에 붕붕 윙윙 나 우리 엉엉 휘익 윙윙 오호 아하 어쨋든 만 못하다 하기보다는 차라리 하는 편이 낫다 흐흐 놀라다 상대적으로 말하자면 마치 아니라면 쉿 그렇지 않으면 그렇지 않다면 안 그러면 아니었다면 하든지 아니면 이라면 좋아 알았어 하는것도 그만이다 어쩔수 없다 하나 일 일반적으로 일단 한켠으로는 오자마자 이렇게되면 이와같다면 전부 한마디 한항목 근거로 하기에 아울러 하지 않도록 않기 위해서 이르기까지 이 되다 로 인하여 까닭으로 이유만으로 이로 인하여 그래서 이 때문에 그러므로 그런 까닭에 알 수 있다 결론을 낼 수 있다 으로 인하여 있다 어떤것 관계가 있다 관련이 있다 연관되다 어떤것들 에 대해 이리하여 그리하여 여부 하기보다는 하느니 하면 할수록 운운 이러이러하다 하구나 하도다 다시말하면 다음으로 에 있다 에 달려 있다 우리 우리들 오히려 하기는한데 어떻게 어떻해 어찌됏어 어때 어째서 본대로 자 이 이쪽 여기 이것 이번 이렇게말하자면 이런 이러한 이와 같은 요만큼 요만한 것 얼마 안 되는 것 이만큼 이 정도의 이렇게 많은 것 이와 같다 이때 이렇구나 것과 같이 끼익 삐걱 따위 와 같은 사람들 부류의 사람들 왜냐하면 중의하나 오직 오로지 에 한하다 하기만 하면 도착하다 까지 미치다 도달하다 정도에 이르다 할 지경이다 결과에 이르다 관해서는 여러분 하고 있다 한 후 혼자 자기 자기집 자신 우에 종합한것과같이 총적으로 보면 총적으로 말하면 총적으로 대로 하다 으로서 참 그만이다 할 따름이다 쿵 탕탕 쾅쾅 둥둥 봐 봐라 아이야 아니 와아 응 아이 참나 년 월 일 령 영 일 이 삼 사 오 육 륙 칠 팔 구 이천육 이천칠 이천팔 이천구 하나 둘 셋 넷 다섯 여섯 일곱 여덟 아홉 령 영 이 있 하 것 들 그 되 수 이 보 않 없 나 사람 주 아니 등 같 우리 때 년 가 한 지 대하 오 말 일 그렇 위하 때문 그것 두 말하 알 그러나 받 못하 일 그런 또 문제 더 사회 많 그리고 좋 크 따르 중 나오 가지 씨 시키 만들 지금 생각하 그러 속 하나 집 살 모르 적 월 데 자신 안 어떤 내 내 경우 명 생각 시간 그녀 다시 이런 앞 보이 번 나 다른 어떻 여자 개 전 들 사실 이렇 점 싶 말 정도 좀 원 잘 통하 놓\"\n",
        "stop_words=stop_words.split(' ')\n"
      ],
      "metadata": {
        "id": "sbwAAIv5SyLr"
      },
      "execution_count": null,
      "outputs": []
    },
    {
      "cell_type": "code",
      "source": [
        "import re\n",
        "def clean_html_tags(text):\n",
        "    # HTML 태그 제거\n",
        "    cleanr = re.compile('<.*?>')\n",
        "    cleantext = re.sub(cleanr, '', text)\n",
        "    return cleantext"
      ],
      "metadata": {
        "id": "fratGlfaSyLs"
      },
      "execution_count": null,
      "outputs": []
    },
    {
      "cell_type": "code",
      "source": [
        "def clean_special_chars(text):\n",
        "    # 특수문자 제거\n",
        "    text = re.sub('[^가-힣ㄱ-ㅎㅏ-ㅣa-zA-Z0-9\\\\s]', '', text)\n",
        "    return text"
      ],
      "metadata": {
        "id": "gVEFnb8oSyLt"
      },
      "execution_count": null,
      "outputs": []
    },
    {
      "cell_type": "code",
      "source": [
        "def remove_stopwords(tokens):\n",
        "    # 불용어 제거\n",
        "    tokens = [word for word in tokens if word not in stop_words]\n",
        "    return tokens"
      ],
      "metadata": {
        "id": "OP6L3OlHSyLu"
      },
      "execution_count": null,
      "outputs": []
    },
    {
      "cell_type": "code",
      "source": [
        "city_dict = {'강원':0, '경기':1,'경북':2,'경남':3,\n",
        "             '충북':4,'충남':5,'광주':6,'대구':7,\n",
        "             '대전':8,'부산':9,'서울':10,'세종':11,\n",
        "             '울산':12,'인천':13,'전북':14,'전남':15,\n",
        "             '제주':16}"
      ],
      "metadata": {
        "id": "S3le3dhXSyLu"
      },
      "execution_count": null,
      "outputs": []
    },
    {
      "cell_type": "code",
      "source": [
        "city_dict = {v:k for k,v in city_dict.items()}\n",
        "city_dict\n"
      ],
      "metadata": {
        "colab": {
          "base_uri": "https://localhost:8080/"
        },
        "outputId": "51ee0d69-f99f-4c05-beac-fc67a0a9e4c6",
        "id": "GnfZQWzbSyLv"
      },
      "execution_count": null,
      "outputs": [
        {
          "output_type": "execute_result",
          "data": {
            "text/plain": [
              "{0: '강원',\n",
              " 1: '경기',\n",
              " 2: '경북',\n",
              " 3: '경남',\n",
              " 4: '충북',\n",
              " 5: '충남',\n",
              " 6: '광주',\n",
              " 7: '대구',\n",
              " 8: '대전',\n",
              " 9: '부산',\n",
              " 10: '서울',\n",
              " 11: '세종',\n",
              " 12: '울산',\n",
              " 13: '인천',\n",
              " 14: '전북',\n",
              " 15: '전남',\n",
              " 16: '제주'}"
            ]
          },
          "metadata": {},
          "execution_count": 75
        }
      ]
    },
    {
      "cell_type": "code",
      "source": [],
      "metadata": {
        "id": "XwbLfKMOSyLv"
      },
      "execution_count": null,
      "outputs": []
    },
    {
      "cell_type": "code",
      "source": [
        "\n",
        "\n",
        "loc_df_list = [GANGWON_2022,GYEONGI_2022,GYEONGBUK_2022, GYEONGNAM_2022,\n",
        "                      CHOONGBUK_2022,CHOONGNAM_2022,GWANGJU_2022,DAEGU_2022,\n",
        "                       DAEJEON_2022,PUSAN_2022,SEOUL_2022,SEJONG_2022,\n",
        "                       ULSAN_2022,INCHEON_2022,CHEONBUK_2022,CHEONNAM_2022,\n",
        "                       JEJU_2022]\n",
        "\n",
        "k=0\n",
        "for df_ in loc_df_list:\n",
        "\n",
        "  df_['content'] = df_['content'].apply(lambda x: clean_html_tags(x))\n",
        "  df_['content'] = df_['content'].apply(lambda x: clean_special_chars(x))\n",
        "  okt = Okt()\n",
        "  df_['content_pos'] = df_['content'].apply(okt.pos)\n",
        "  df_['content_nouns'] = df_['content_pos'].apply(lambda x: [word for (word, pos) in x if pos in ['Noun'] and word not in stop_words])\n",
        "  df_['content_nouns'] = df_['content_nouns'].apply(lambda x: remove_stopwords(x))\n",
        "  words = sum(df_['content_nouns'], [])\n",
        "  word_counter = Counter(words)\n",
        "  with open('Pos_dict.txt', 'r', encoding='utf-8') as f:\n",
        "    words = f.read().split()\n",
        "  from collections import defaultdict\n",
        "\n",
        "  # 각 단어가 데이터프레임의 'content' 열에 몇 번 등장하는지 세기\n",
        "  word_countss = defaultdict(int)\n",
        "  for word in words:\n",
        "    for content in df_['content_nouns']:\n",
        "      if word in content:\n",
        "          word_countss[word] += 1\n",
        "  df = pd.DataFrame.from_dict(word_countss, orient='index', columns=['count'])\n",
        "\n",
        "  with open('Neg_dict.txt', 'r', encoding='utf-8') as f:\n",
        "      words = f.read().split()\n",
        "\n",
        "  # 각 단어가 데이터프레임의 'content' 열에 몇 번 등장하는지 세기\n",
        "  word_countsss = defaultdict(int)\n",
        "  for word in words:\n",
        "    for content in df_['content_nouns']:\n",
        "      if word in content:\n",
        "          word_countsss[word] += 1\n",
        "  df_neg = pd.DataFrame.from_dict(word_countsss, orient='index', columns=['count'])\n",
        "\n",
        "\n",
        "  pos_words = df['count'].sum()\n",
        "  neg_words = df_neg['count'].sum()\n",
        "  location = city_dict.get(k)\n",
        "  print('{} 지역의 긍정단어 수는'.format(location),pos_words)\n",
        "  print('{} 지역의 부정단어 수는'.format(location),neg_words)\n",
        "  print('{} 지역의 부정단어 비율은'.format(location),neg_words/(pos_words+neg_words))\n",
        "\n",
        "  k+=1\n",
        "\n",
        "\n"
      ],
      "metadata": {
        "colab": {
          "base_uri": "https://localhost:8080/"
        },
        "outputId": "f30f2d92-3a9c-49e9-db41-5a0b48ff5efb",
        "id": "S-Z-WweaSyLw"
      },
      "execution_count": null,
      "outputs": [
        {
          "output_type": "stream",
          "name": "stdout",
          "text": [
            "강원 지역의 긍정단어 수는 11413\n",
            "강원 지역의 부정단어 수는 14414\n",
            "강원 지역의 부정단어 비율은 0.5580981143764278\n",
            "경기 지역의 긍정단어 수는 9512\n",
            "경기 지역의 부정단어 수는 11865\n",
            "경기 지역의 부정단어 비율은 0.5550357861252748\n",
            "경북 지역의 긍정단어 수는 6465\n",
            "경북 지역의 부정단어 수는 8712\n",
            "경북 지역의 부정단어 비율은 0.5740264874481122\n",
            "경남 지역의 긍정단어 수는 7944\n",
            "경남 지역의 부정단어 수는 9793\n",
            "경남 지역의 부정단어 비율은 0.5521226814004623\n",
            "충북 지역의 긍정단어 수는 5781\n",
            "충북 지역의 부정단어 수는 7434\n",
            "충북 지역의 부정단어 비율은 0.5625425652667423\n",
            "충남 지역의 긍정단어 수는 5075\n",
            "충남 지역의 부정단어 수는 6998\n",
            "충남 지역의 부정단어 비율은 0.579640520168972\n",
            "광주 지역의 긍정단어 수는 7488\n",
            "광주 지역의 부정단어 수는 9007\n",
            "광주 지역의 부정단어 비율은 0.5460442558351015\n",
            "대구 지역의 긍정단어 수는 7455\n",
            "대구 지역의 부정단어 수는 9264\n",
            "대구 지역의 부정단어 비율은 0.5541001256055984\n",
            "대전 지역의 긍정단어 수는 9381\n",
            "대전 지역의 부정단어 수는 13040\n",
            "대전 지역의 부정단어 비율은 0.5815976093840596\n",
            "부산 지역의 긍정단어 수는 7029\n",
            "부산 지역의 부정단어 수는 7972\n",
            "부산 지역의 부정단어 비율은 0.5314312379174722\n",
            "서울 지역의 긍정단어 수는 13667\n",
            "서울 지역의 부정단어 수는 16999\n",
            "서울 지역의 부정단어 비율은 0.5543272679840866\n",
            "세종 지역의 긍정단어 수는 8583\n",
            "세종 지역의 부정단어 수는 10120\n",
            "세종 지역의 부정단어 비율은 0.5410896647596642\n",
            "울산 지역의 긍정단어 수는 9444\n",
            "울산 지역의 부정단어 수는 13014\n",
            "울산 지역의 부정단어 비율은 0.5794816991717874\n",
            "인천 지역의 긍정단어 수는 4834\n",
            "인천 지역의 부정단어 수는 6396\n",
            "인천 지역의 부정단어 비율은 0.5695458593054319\n",
            "전북 지역의 긍정단어 수는 8813\n",
            "전북 지역의 부정단어 수는 11056\n",
            "전북 지역의 부정단어 비율은 0.5564447128692939\n",
            "전남 지역의 긍정단어 수는 5959\n",
            "전남 지역의 부정단어 수는 7098\n",
            "전남 지역의 부정단어 비율은 0.5436164509458528\n",
            "제주 지역의 긍정단어 수는 8737\n",
            "제주 지역의 부정단어 수는 12169\n",
            "제주 지역의 부정단어 비율은 0.5820816990337702\n"
          ]
        }
      ]
    },
    {
      "cell_type": "markdown",
      "source": [
        "# 2016"
      ],
      "metadata": {
        "id": "vfREalc9S034"
      }
    },
    {
      "cell_type": "code",
      "execution_count": null,
      "metadata": {
        "colab": {
          "base_uri": "https://localhost:8080/"
        },
        "outputId": "42f47dfb-4650-4f37-c2f8-44ea8946847c",
        "id": "yjzEdNQBS035"
      },
      "outputs": [
        {
          "output_type": "stream",
          "name": "stdout",
          "text": [
            "Drive already mounted at /content/drive; to attempt to forcibly remount, call drive.mount(\"/content/drive\", force_remount=True).\n"
          ]
        }
      ],
      "source": [
        "import numpy as np\n",
        "import pandas as pd\n",
        "import os\n",
        "from google.colab import drive\n",
        "drive.mount('/content/drive')\n",
        "#이렇게 위치. GDRIVE란 딱 들어가면 -> 거기에 JongSul이라는 폴더를 생성 -> Jongsul 안에는 2022의 폴더가 현재 있는 셈. 각자 할당받은 연도의 폴더를 디렉토리로 설정을 하고 실행.\n",
        "os.chdir('/content/drive/MyDrive/JongSul/2021')"
      ]
    },
    {
      "cell_type": "code",
      "source": [
        "#데이터셋 임포트. 이 파트를 바꾸어 주어야 함... \n",
        "GANGWON_2022 = pd.read_csv('강원 출산_2021.csv',encoding='utf-8')\n",
        "GYEONGI_2022 = pd.read_csv('경기 출산_2021.csv',encoding='utf-8')\n",
        "GYEONGBUK_2022 = pd.read_csv('경북 출산_2021.csv',encoding='utf-8')\n",
        "GYEONGNAM_2022 = pd.read_csv('경남 출산_2021.csv',encoding='utf-8')\n",
        "CHOONGBUK_2022 = pd.read_csv('충북 출산_2021.csv',encoding='utf-8')\n",
        "CHOONGNAM_2022 = pd.read_csv('충남 출산_2021.csv',encoding='utf-8')\n",
        "GWANGJU_2022 = pd.read_csv('광주 출산_2021.csv',encoding='utf-8')\n",
        "DAEGU_2022 = pd.read_csv('대구 출산_2021.csv',encoding='utf-8')\n",
        "DAEJEON_2022 = pd.read_csv('대전 출산_2021.csv',encoding='utf-8')\n",
        "PUSAN_2022 = pd.read_csv('부산 출산_2021.csv',encoding='utf-8')\n",
        "SEOUL_2022 = pd.read_csv('서울 출산_2021.csv',encoding='utf-8')\n",
        "SEJONG_2022 = pd.read_csv('세종 출산_2021.csv',encoding='utf-8')\n",
        "ULSAN_2022 = pd.read_csv('울산 출산_2021.csv',encoding='utf-8')\n",
        "INCHEON_2022 = pd.read_csv('인천 출산_2021.csv',encoding='utf-8')\n",
        "CHEONBUK_2022 = pd.read_csv('전북 출산_2021.csv',encoding='utf-8')\n",
        "CHEONNAM_2022 = pd.read_csv('전남 출산_2021.csv',encoding='utf-8')\n",
        "JEJU_2022 = pd.read_csv('제주 출산_2021.csv',encoding='utf-8')\n",
        "\n",
        "\n",
        "\n",
        "\n"
      ],
      "metadata": {
        "id": "AYl_CtnmS036"
      },
      "execution_count": null,
      "outputs": []
    },
    {
      "cell_type": "code",
      "source": [
        "#필요한 라이브러리 설치\n",
        "!pip install nltk\n",
        "!pip install konlpy"
      ],
      "metadata": {
        "colab": {
          "base_uri": "https://localhost:8080/"
        },
        "outputId": "91f38d7b-c58b-417c-e1fa-566227db3c29",
        "id": "i53AxNS-S037"
      },
      "execution_count": null,
      "outputs": [
        {
          "output_type": "stream",
          "name": "stdout",
          "text": [
            "Looking in indexes: https://pypi.org/simple, https://us-python.pkg.dev/colab-wheels/public/simple/\n",
            "Requirement already satisfied: nltk in /usr/local/lib/python3.9/dist-packages (3.8.1)\n",
            "Requirement already satisfied: tqdm in /usr/local/lib/python3.9/dist-packages (from nltk) (4.65.0)\n",
            "Requirement already satisfied: joblib in /usr/local/lib/python3.9/dist-packages (from nltk) (1.2.0)\n",
            "Requirement already satisfied: regex>=2021.8.3 in /usr/local/lib/python3.9/dist-packages (from nltk) (2022.10.31)\n",
            "Requirement already satisfied: click in /usr/local/lib/python3.9/dist-packages (from nltk) (8.1.3)\n",
            "Looking in indexes: https://pypi.org/simple, https://us-python.pkg.dev/colab-wheels/public/simple/\n",
            "Requirement already satisfied: konlpy in /usr/local/lib/python3.9/dist-packages (0.6.0)\n",
            "Requirement already satisfied: lxml>=4.1.0 in /usr/local/lib/python3.9/dist-packages (from konlpy) (4.9.2)\n",
            "Requirement already satisfied: JPype1>=0.7.0 in /usr/local/lib/python3.9/dist-packages (from konlpy) (1.4.1)\n",
            "Requirement already satisfied: numpy>=1.6 in /usr/local/lib/python3.9/dist-packages (from konlpy) (1.22.4)\n",
            "Requirement already satisfied: packaging in /usr/local/lib/python3.9/dist-packages (from JPype1>=0.7.0->konlpy) (23.1)\n"
          ]
        }
      ]
    },
    {
      "cell_type": "code",
      "source": [
        "#한글 깨짐을 방지하기 위함\n",
        "!apt-get update -qq\n",
        "!apt-get install fonts-nanum* -qq"
      ],
      "metadata": {
        "id": "ARlVaEcmS038"
      },
      "execution_count": null,
      "outputs": []
    },
    {
      "cell_type": "code",
      "source": [
        "#기본적인 라이브러리 임포트\n",
        "#Mecab가 형태소분석기에서 한국어는 제일 잘해주기는 하는데 설치가 개같아서 Okt를 사용\n",
        "import pandas as pd\n",
        "from konlpy.tag import Okt\n",
        "from collections import Counter\n",
        "from wordcloud import WordCloud\n",
        "import matplotlib.pyplot as plt\n"
      ],
      "metadata": {
        "id": "ACTBb8qRS039"
      },
      "execution_count": null,
      "outputs": []
    },
    {
      "cell_type": "code",
      "source": [
        "#누군가의 깃헙에서 가져온 한국어 stop_words\n",
        "stop_words = \"아 휴 아이구 아이쿠 아이고 어 나 우리 저희 따라 의해 을 를 에 의 가 으로 로 에게 뿐이다 의거하여 근거하여 입각하여 기준으로 예하면 예를 들면 예를 들자면 저 소인 소생 저희 지말고 하지마 하지마라 다른 물론 또한 그리고 비길수 없다 해서는 안된다 뿐만 아니라 만이 아니다 만은 아니다 막론하고 관계없이 그치지 않다 그러나 그런데 하지만 든간에 논하지 않다 따지지 않다 설사 비록 더라도 아니면 만 못하다 하는 편이 낫다 불문하고 향하여 향해서 향하다 쪽으로 틈타 이용하여 타다 오르다 제외하고 이 외에 이 밖에 하여야 비로소 한다면 몰라도 외에도 이곳 여기 부터 기점으로 따라서 할 생각이다 하려고하다 이리하여 그리하여 그렇게 함으로써 하지만 일때 할때 앞에서 중에서 보는데서 으로써 로써 까지 해야한다 일것이다 반드시 할줄알다 할수있다 할수있어 임에 틀림없다 한다면 등 등등 제 겨우 단지 다만 할뿐 딩동 댕그 대해서 대하여 대하면 훨씬 얼마나 얼마만큼 얼마큼 남짓 여 얼마간 약간 다소 좀 조금 다수 몇 얼마 지만 하물며 또한 그러나 그렇지만 하지만 이외에도 대해 말하자면 뿐이다 다음에 반대로 반대로 말하자면 이와 반대로 바꾸어서 말하면 바꾸어서 한다면 만약 그렇지않으면 까악 툭 딱 삐걱거리다 보드득 비걱거리다 꽈당 응당 해야한다 에 가서 각 각각 여러분 각종 각자 제각기 하도록하다 와 과 그러므로 그래서 고로 한 까닭에 하기 때문에 거니와 이지만 대하여 관하여 관한 과연 실로 아니나다를가 생각한대로 진짜로 한적이있다 하곤하였다 하 하하 허허 아하 거바 와 오 왜 어째서 무엇때문에 어찌 하겠는가 무슨 어디 어느곳 더군다나 하물며 더욱이는 어느때 언제 야 이봐 어이 여보시오 흐흐 흥 휴 헉헉 헐떡헐떡 영차 여차 어기여차 끙끙 아야 앗 아야 콸콸 졸졸 좍좍 뚝뚝 주룩주룩 솨 우르르 그래도 또 그리고 바꾸어말하면 바꾸어말하자면 혹은 혹시 답다 및 그에 따르는 때가 되어 즉 지든지 설령 가령 하더라도 할지라도 일지라도 지든지 몇 거의 하마터면 인젠 이젠 된바에야 된이상 만큼 어찌됏든 그위에 게다가 점에서 보아 비추어 보아 고려하면 하게될것이다 일것이다 비교적 좀 보다더 비하면 시키다 하게하다 할만하다 의해서 연이서 이어서 잇따라 뒤따라 뒤이어 결국 의지하여 기대여 통하여 자마자 더욱더 불구하고 얼마든지 마음대로 주저하지 않고 곧 즉시 바로 당장 하자마자 밖에 안된다 하면된다 그래 그렇지 요컨대 다시 말하자면 바꿔 말하면 즉 구체적으로 말하자면 시작하여 시초에 이상 허 헉 허걱 바와같이 해도좋다 해도된다 게다가 더구나 하물며 와르르 팍 퍽 펄렁 동안 이래 하고있었다 이었다 에서 로부터 까지 예하면 했어요 해요 함께 같이 더불어 마저 마저도 양자 모두 습니다 가까스로 하려고하다 즈음하여 다른 다른 방면으로 해봐요 습니까 했어요 말할것도 없고 무릎쓰고 개의치않고 하는것만 못하다 하는것이 낫다 매 매번 들 모 어느것 어느 로써 갖고말하자면 어디 어느쪽 어느것 어느해 어느 년도 라 해도 언젠가 어떤것 어느것 저기 저쪽 저것 그때 그럼 그러면 요만한걸 그래 그때 저것만큼 그저 이르기까지 할 줄 안다 할 힘이 있다 너 너희 당신 어찌 설마 차라리 할지언정 할지라도 할망정 할지언정 구토하다 게우다 토하다 메쓰겁다 옆사람 퉤 쳇 의거하여 근거하여 의해 따라 힘입어 그 다음 버금 두번째로 기타 첫번째로 나머지는 그중에서 견지에서 형식으로 쓰여 입장에서 위해서 단지 의해되다 하도록시키다 뿐만아니라 반대로 전후 전자 앞의것 잠시 잠깐 하면서 그렇지만 다음에 그러한즉 그런즉 남들 아무거나 어찌하든지 같다 비슷하다 예컨대 이럴정도로 어떻게 만약 만일 위에서 서술한바와같이 인 듯하다 하지 않는다면 만약에 무엇 무슨 어느 어떤 아래윗 조차 한데 그럼에도 불구하고 여전히 심지어 까지도 조차도 하지 않도록 않기 위하여 때 시각 무렵 시간 동안 어때 어떠한 하여금 네 예 우선 누구 누가 알겠는가 아무도 줄은모른다 줄은 몰랏다 하는 김에 겸사겸사 하는바 그런 까닭에 한 이유는 그러니 그러니까 때문에 그 너희 그들 너희들 타인 것 것들 너 위하여 공동으로 동시에 하기 위하여 어찌하여 무엇때문에 붕붕 윙윙 나 우리 엉엉 휘익 윙윙 오호 아하 어쨋든 만 못하다 하기보다는 차라리 하는 편이 낫다 흐흐 놀라다 상대적으로 말하자면 마치 아니라면 쉿 그렇지 않으면 그렇지 않다면 안 그러면 아니었다면 하든지 아니면 이라면 좋아 알았어 하는것도 그만이다 어쩔수 없다 하나 일 일반적으로 일단 한켠으로는 오자마자 이렇게되면 이와같다면 전부 한마디 한항목 근거로 하기에 아울러 하지 않도록 않기 위해서 이르기까지 이 되다 로 인하여 까닭으로 이유만으로 이로 인하여 그래서 이 때문에 그러므로 그런 까닭에 알 수 있다 결론을 낼 수 있다 으로 인하여 있다 어떤것 관계가 있다 관련이 있다 연관되다 어떤것들 에 대해 이리하여 그리하여 여부 하기보다는 하느니 하면 할수록 운운 이러이러하다 하구나 하도다 다시말하면 다음으로 에 있다 에 달려 있다 우리 우리들 오히려 하기는한데 어떻게 어떻해 어찌됏어 어때 어째서 본대로 자 이 이쪽 여기 이것 이번 이렇게말하자면 이런 이러한 이와 같은 요만큼 요만한 것 얼마 안 되는 것 이만큼 이 정도의 이렇게 많은 것 이와 같다 이때 이렇구나 것과 같이 끼익 삐걱 따위 와 같은 사람들 부류의 사람들 왜냐하면 중의하나 오직 오로지 에 한하다 하기만 하면 도착하다 까지 미치다 도달하다 정도에 이르다 할 지경이다 결과에 이르다 관해서는 여러분 하고 있다 한 후 혼자 자기 자기집 자신 우에 종합한것과같이 총적으로 보면 총적으로 말하면 총적으로 대로 하다 으로서 참 그만이다 할 따름이다 쿵 탕탕 쾅쾅 둥둥 봐 봐라 아이야 아니 와아 응 아이 참나 년 월 일 령 영 일 이 삼 사 오 육 륙 칠 팔 구 이천육 이천칠 이천팔 이천구 하나 둘 셋 넷 다섯 여섯 일곱 여덟 아홉 령 영 이 있 하 것 들 그 되 수 이 보 않 없 나 사람 주 아니 등 같 우리 때 년 가 한 지 대하 오 말 일 그렇 위하 때문 그것 두 말하 알 그러나 받 못하 일 그런 또 문제 더 사회 많 그리고 좋 크 따르 중 나오 가지 씨 시키 만들 지금 생각하 그러 속 하나 집 살 모르 적 월 데 자신 안 어떤 내 내 경우 명 생각 시간 그녀 다시 이런 앞 보이 번 나 다른 어떻 여자 개 전 들 사실 이렇 점 싶 말 정도 좀 원 잘 통하 놓\"\n",
        "stop_words=stop_words.split(' ')\n"
      ],
      "metadata": {
        "id": "TJh8QdwhS039"
      },
      "execution_count": null,
      "outputs": []
    },
    {
      "cell_type": "code",
      "source": [
        "import re\n",
        "def clean_html_tags(text):\n",
        "    # HTML 태그 제거\n",
        "    cleanr = re.compile('<.*?>')\n",
        "    cleantext = re.sub(cleanr, '', text)\n",
        "    return cleantext"
      ],
      "metadata": {
        "id": "gseS81q3S03-"
      },
      "execution_count": null,
      "outputs": []
    },
    {
      "cell_type": "code",
      "source": [
        "def clean_special_chars(text):\n",
        "    # 특수문자 제거\n",
        "    text = re.sub('[^가-힣ㄱ-ㅎㅏ-ㅣa-zA-Z0-9\\\\s]', '', text)\n",
        "    return text"
      ],
      "metadata": {
        "id": "q3S2LstzS03_"
      },
      "execution_count": null,
      "outputs": []
    },
    {
      "cell_type": "code",
      "source": [
        "def remove_stopwords(tokens):\n",
        "    # 불용어 제거\n",
        "    tokens = [word for word in tokens if word not in stop_words]\n",
        "    return tokens"
      ],
      "metadata": {
        "id": "uhilUrJlS03_"
      },
      "execution_count": null,
      "outputs": []
    },
    {
      "cell_type": "code",
      "source": [
        "city_dict = {'강원':0, '경기':1,'경북':2,'경남':3,\n",
        "             '충북':4,'충남':5,'광주':6,'대구':7,\n",
        "             '대전':8,'부산':9,'서울':10,'세종':11,\n",
        "             '울산':12,'인천':13,'전북':14,'전남':15,\n",
        "             '제주':16}"
      ],
      "metadata": {
        "id": "3y81Do00S04A"
      },
      "execution_count": null,
      "outputs": []
    },
    {
      "cell_type": "code",
      "source": [
        "city_dict = {v:k for k,v in city_dict.items()}\n",
        "city_dict\n"
      ],
      "metadata": {
        "colab": {
          "base_uri": "https://localhost:8080/"
        },
        "outputId": "532680e9-974c-4802-9fcb-be3ca6050a3d",
        "id": "nzAm8vW7S04A"
      },
      "execution_count": null,
      "outputs": [
        {
          "output_type": "execute_result",
          "data": {
            "text/plain": [
              "{0: '강원',\n",
              " 1: '경기',\n",
              " 2: '경북',\n",
              " 3: '경남',\n",
              " 4: '충북',\n",
              " 5: '충남',\n",
              " 6: '광주',\n",
              " 7: '대구',\n",
              " 8: '대전',\n",
              " 9: '부산',\n",
              " 10: '서울',\n",
              " 11: '세종',\n",
              " 12: '울산',\n",
              " 13: '인천',\n",
              " 14: '전북',\n",
              " 15: '전남',\n",
              " 16: '제주'}"
            ]
          },
          "metadata": {},
          "execution_count": 87
        }
      ]
    },
    {
      "cell_type": "code",
      "source": [],
      "metadata": {
        "id": "8DsPeVTzS04B"
      },
      "execution_count": null,
      "outputs": []
    },
    {
      "cell_type": "code",
      "source": [
        "\n",
        "\n",
        "loc_df_list = [GANGWON_2022,GYEONGI_2022,GYEONGBUK_2022, GYEONGNAM_2022,\n",
        "                      CHOONGBUK_2022,CHOONGNAM_2022,GWANGJU_2022,DAEGU_2022,\n",
        "                       DAEJEON_2022,PUSAN_2022,SEOUL_2022,SEJONG_2022,\n",
        "                       ULSAN_2022,INCHEON_2022,CHEONBUK_2022,CHEONNAM_2022,\n",
        "                       JEJU_2022]\n",
        "\n",
        "k=0\n",
        "for df_ in loc_df_list:\n",
        "\n",
        "  df_['content'] = df_['content'].apply(lambda x: clean_html_tags(x))\n",
        "  df_['content'] = df_['content'].apply(lambda x: clean_special_chars(x))\n",
        "  okt = Okt()\n",
        "  df_['content_pos'] = df_['content'].apply(okt.pos)\n",
        "  df_['content_nouns'] = df_['content_pos'].apply(lambda x: [word for (word, pos) in x if pos in ['Noun'] and word not in stop_words])\n",
        "  df_['content_nouns'] = df_['content_nouns'].apply(lambda x: remove_stopwords(x))\n",
        "  words = sum(df_['content_nouns'], [])\n",
        "  word_counter = Counter(words)\n",
        "  with open('Pos_dict.txt', 'r', encoding='utf-8') as f:\n",
        "    words = f.read().split()\n",
        "  from collections import defaultdict\n",
        "\n",
        "  # 각 단어가 데이터프레임의 'content' 열에 몇 번 등장하는지 세기\n",
        "  word_countss = defaultdict(int)\n",
        "  for word in words:\n",
        "    for content in df_['content_nouns']:\n",
        "      if word in content:\n",
        "          word_countss[word] += 1\n",
        "  df = pd.DataFrame.from_dict(word_countss, orient='index', columns=['count'])\n",
        "\n",
        "  with open('Neg_dict.txt', 'r', encoding='utf-8') as f:\n",
        "      words = f.read().split()\n",
        "\n",
        "  # 각 단어가 데이터프레임의 'content' 열에 몇 번 등장하는지 세기\n",
        "  word_countsss = defaultdict(int)\n",
        "  for word in words:\n",
        "    for content in df_['content_nouns']:\n",
        "      if word in content:\n",
        "          word_countsss[word] += 1\n",
        "  df_neg = pd.DataFrame.from_dict(word_countsss, orient='index', columns=['count'])\n",
        "\n",
        "\n",
        "  pos_words = df['count'].sum()\n",
        "  neg_words = df_neg['count'].sum()\n",
        "  location = city_dict.get(k)\n",
        "  print('{} 지역의 긍정단어 수는'.format(location),pos_words)\n",
        "  print('{} 지역의 부정단어 수는'.format(location),neg_words)\n",
        "  print('{} 지역의 부정단어 비율은'.format(location),neg_words/(pos_words+neg_words))\n",
        "\n",
        "  k+=1\n",
        "\n",
        "\n"
      ],
      "metadata": {
        "colab": {
          "base_uri": "https://localhost:8080/"
        },
        "outputId": "777807ac-038a-4f17-e1fd-c83f641b65d5",
        "id": "ARYI9ogZS04B"
      },
      "execution_count": null,
      "outputs": [
        {
          "output_type": "stream",
          "name": "stdout",
          "text": [
            "강원 지역의 긍정단어 수는 11211\n",
            "강원 지역의 부정단어 수는 14947\n",
            "강원 지역의 부정단어 비율은 0.5714121874761068\n",
            "경기 지역의 긍정단어 수는 8855\n",
            "경기 지역의 부정단어 수는 13201\n",
            "경기 지역의 부정단어 비율은 0.5985219441421835\n",
            "경북 지역의 긍정단어 수는 5635\n",
            "경북 지역의 부정단어 수는 9157\n",
            "경북 지역의 부정단어 비율은 0.6190508382909681\n",
            "경남 지역의 긍정단어 수는 5780\n",
            "경남 지역의 부정단어 수는 8035\n",
            "경남 지역의 부정단어 비율은 0.5816141874773797\n",
            "충북 지역의 긍정단어 수는 5721\n",
            "충북 지역의 부정단어 수는 8163\n",
            "충북 지역의 부정단어 비율은 0.587942955920484\n",
            "충남 지역의 긍정단어 수는 4896\n",
            "충남 지역의 부정단어 수는 5859\n",
            "충남 지역의 부정단어 비율은 0.5447698744769874\n",
            "광주 지역의 긍정단어 수는 4193\n",
            "광주 지역의 부정단어 수는 4523\n",
            "광주 지역의 부정단어 비율은 0.5189307021569527\n",
            "대구 지역의 긍정단어 수는 6288\n",
            "대구 지역의 부정단어 수는 8729\n",
            "대구 지역의 부정단어 비율은 0.5812745555037624\n",
            "대전 지역의 긍정단어 수는 5276\n",
            "대전 지역의 부정단어 수는 7797\n",
            "대전 지역의 부정단어 비율은 0.5964201025013386\n",
            "부산 지역의 긍정단어 수는 6921\n",
            "부산 지역의 부정단어 수는 8446\n",
            "부산 지역의 부정단어 비율은 0.5496193141146613\n",
            "서울 지역의 긍정단어 수는 10200\n",
            "서울 지역의 부정단어 수는 14602\n",
            "서울 지역의 부정단어 비율은 0.5887428433190872\n",
            "세종 지역의 긍정단어 수는 8743\n",
            "세종 지역의 부정단어 수는 13513\n",
            "세종 지역의 부정단어 비율은 0.6071621135873473\n",
            "울산 지역의 긍정단어 수는 7958\n",
            "울산 지역의 부정단어 수는 10170\n",
            "울산 지역의 부정단어 비율은 0.5610105913503972\n",
            "인천 지역의 긍정단어 수는 4892\n",
            "인천 지역의 부정단어 수는 8987\n",
            "인천 지역의 부정단어 비율은 0.6475250378269328\n",
            "전북 지역의 긍정단어 수는 5383\n",
            "전북 지역의 부정단어 수는 7436\n",
            "전북 지역의 부정단어 비율은 0.5800764490209844\n",
            "전남 지역의 긍정단어 수는 5528\n",
            "전남 지역의 부정단어 수는 6987\n",
            "전남 지역의 부정단어 비율은 0.5582900519376748\n",
            "제주 지역의 긍정단어 수는 8076\n",
            "제주 지역의 부정단어 수는 10960\n",
            "제주 지역의 부정단어 비율은 0.5757512082370246\n"
          ]
        }
      ]
    }
  ]
}